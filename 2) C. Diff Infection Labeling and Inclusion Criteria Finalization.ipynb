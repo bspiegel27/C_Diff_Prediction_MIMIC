{
 "cells": [
  {
   "cell_type": "markdown",
   "metadata": {},
   "source": [
    "## Overview\n",
    "### This notebook is designed to finalize the ICU stays for which CDI risk will be predicted, and label these patients with included cases of CDI. \n",
    "##### Key exclusion criteria:\n",
    "    Patients under age 1 - limited risk of infectious CDI and frequent diarrhea due to other causes\n",
    "    Patients with pre-existing CDI or strong suspicion prior to ICU stay (eg. diarrhea upon admission)\n",
    "    Patients without an icustay \n",
    "##### Patient Population Description:\n",
    "    Predictions will be made for each unique ICU stay, and with information gathered anytime prior to 2 days after ICU admission.\n",
    "    \n",
    "    Utilizing a standard cutoff of 2 days post-ICU admission aligns with timing of other risk assessments typically made such as mortality/morbidity predictions with scales like APACHE (made around 1 days after ICU admit). As such, a tool based on this model could be implemented into existing clinical workflows.\n",
    "    \n",
    "\n",
    "## Notebook sections\n",
    "   #### a) Import Libraries and Key Data Import; BigQuery OAuth Setup\n",
    "    Includes import of both patient admits and ICU stays dataframes from first notebook\n",
    "   #### b) Define functions for use inside notenook\n",
    "    Date_diff - calculates difference in time between two dates\n",
    "   #### c) Label Patients With Clostridium difficile infection (CDI)\n",
    "    1) ID patients noted as having clostridium difficile infection (CDI) at any point during a hospital stay via ICD-9 code\n",
    "    2) Identify CDI with confirmed diagnosis In Microbiology Events Table\n",
    "   #### d) Finalize CDI inclusion\n",
    "    1) Must have timestamped lab diagnosis of CDI after being in the ICU for at least 2 days. This ensures minimal suspsicion or pre-existing CDI diagnosis for patients for whom CDI risk will be predicted\n",
    "   #### e) Finalize non-CDI admit inclusion\n",
    "    Largely utilizes features generated in first notebook, and also ensures patients were not discharged from hospital within 2 days after being admitted to ICU\n",
    "   #### f) Train Test Split\n",
    "    Ensures all EDA performed on training data throughout rest of notebooks\n",
    "    \n",
    "    Key Notes:\n",
    "    Standard 75%/25% train-test split\n",
    "    Split preserves entirety of each patient's data on same side of split (many have more than one hospital/ICU stay), \n",
    "    and ensures the same rate of CDI across the split.\n",
    "    \n",
    "    Resulting dataframes maintain both included and excluded icustays/patients. While individual hospital or ICU stays may be excluded from risk prediction, these stays may belong to patients for whom later stays are included. Given that analysis of prior hospital care will be utilized to predict CDI during current icustays, excluded admissions are not dropped from the dataframe. Instead, excluded stays are labeled appropriately and filtered out when conducting EDA.\n",
    "    \n",
    "\n",
    "## Output and Results\n",
    "#### Updated ICU admissions training and test dataframes (two files) with clearly marked CDI cases and inclusion/exclusion status\n",
    "\n",
    "#### Summary Stats:\n",
    "    Overall CDI rate of ~1.42%\n",
    "    670 out of an initial 1079 lab confirmed CDI cases remain included in final analysis based on criteria above\n",
    "    Total of 47,000 ICU stays remain included in final analysis \n",
    "    "
   ]
  },
  {
   "cell_type": "markdown",
   "metadata": {},
   "source": [
    "## A) Import libraries and Data and set up BigQuery authorization"
   ]
  },
  {
   "cell_type": "code",
   "execution_count": 1,
   "metadata": {},
   "outputs": [],
   "source": [
    "from google.cloud import bigquery\n",
    "from google_auth_oauthlib import flow\n",
    "\n",
    "client = bigquery.Client()\n",
    "\n",
    "project = 'mimiciii-249117'"
   ]
  },
  {
   "cell_type": "code",
   "execution_count": 2,
   "metadata": {},
   "outputs": [],
   "source": [
    "# Import libraries for analysis within notebook\n",
    "import datetime\n",
    "import pandas as pd\n",
    "import numpy as np\n",
    "import matplotlib.pyplot as plt\n",
    "import seaborn as sns\n",
    "from scipy import stats\n",
    "from scipy.stats import kurtosis, kurtosistest, skew, skewtest\n",
    "from sklearn.model_selection import train_test_split\n",
    "from sklearn.model_selection import ShuffleSplit"
   ]
  },
  {
   "cell_type": "code",
   "execution_count": 3,
   "metadata": {},
   "outputs": [],
   "source": [
    "launch_browser = True"
   ]
  },
  {
   "cell_type": "code",
   "execution_count": 4,
   "metadata": {
    "scrolled": true
   },
   "outputs": [
    {
     "name": "stdout",
     "output_type": "stream",
     "text": [
      "Please visit this URL to authorize this application: https://accounts.google.com/o/oauth2/auth?response_type=code&client_id=579414793473-ak30u31klvdecqfv6kg8542ofeeegm18.apps.googleusercontent.com&redirect_uri=http%3A%2F%2Flocalhost%3A8080%2F&scope=https%3A%2F%2Fwww.googleapis.com%2Fauth%2Fbigquery&state=LnKWQAvwG1rSLwweHxUKAZgaefoaJo&access_type=offline&code_challenge=45EI4jsPOlkEydnK1F-udiELDgBsPw5Y_7IboZfm-PY&code_challenge_method=S256\n"
     ]
    }
   ],
   "source": [
    "appflow = flow.InstalledAppFlow.from_client_secrets_file(\n",
    "    'C:/Users/fuzzyman27/BigQuery/client_secrets.json',\n",
    "    scopes=['https://www.googleapis.com/auth/bigquery'])\n",
    "\n",
    "if launch_browser:\n",
    "    appflow.run_local_server()\n",
    "else:\n",
    "    appflow.run_console()\n",
    "\n",
    "credentials = appflow.credentials"
   ]
  },
  {
   "cell_type": "code",
   "execution_count": 5,
   "metadata": {},
   "outputs": [],
   "source": [
    "client = bigquery.Client(project=project, credentials=credentials)"
   ]
  },
  {
   "cell_type": "code",
   "execution_count": 6,
   "metadata": {},
   "outputs": [],
   "source": [
    "# Define small function to run SQL queries and return a dataframe\n",
    "def run_query(query):\n",
    "    return client.query(query).to_dataframe()"
   ]
  },
  {
   "cell_type": "markdown",
   "metadata": {},
   "source": [
    "#### Import Patient Admits and ICU Stays DataFrames from 1st Notebook"
   ]
  },
  {
   "cell_type": "code",
   "execution_count": 12,
   "metadata": {},
   "outputs": [],
   "source": [
    "patient_admits = pd.read_csv(\"../Data/1 - Patient Admits.csv\").drop(columns = \"Unnamed: 0\")\n",
    "icu_stays = pd.read_csv(\"../Data/1 - ICU Stays.csv\").drop(columns = \"Unnamed: 0\")"
   ]
  },
  {
   "cell_type": "markdown",
   "metadata": {},
   "source": [
    "## B) Define function to compare dates"
   ]
  },
  {
   "cell_type": "code",
   "execution_count": 7,
   "metadata": {},
   "outputs": [],
   "source": [
    "# Define function that returns difference in days of two dates\n",
    "def date_diff(first_date, second_date):\n",
    "    diff = (first_date - np.timedelta64(0,'s')) - (second_date - np.timedelta64(0,'s'))\n",
    "    return ((diff.components.days) + (diff.components.hours/24) + (diff.components.minutes/(60*24)))"
   ]
  },
  {
   "cell_type": "markdown",
   "metadata": {},
   "source": [
    "## C) Label Patients With Clostridium difficile infection (CDI)"
   ]
  },
  {
   "cell_type": "markdown",
   "metadata": {},
   "source": [
    "##### Step 1:\n",
    "##### ID patients noted as having clostridium difficile infection (CDI) at any point during a hospital stay.\n",
    "\n",
    "Below query selects for CDI via ICD-9 code 00.845\n",
    "\n",
    "Results in 1,444 unique admissions (~2.4% of all ICU admissions)"
   ]
  },
  {
   "cell_type": "code",
   "execution_count": 13,
   "metadata": {},
   "outputs": [],
   "source": [
    "query = \"\"\"\n",
    "    SELECT SUBJECT_ID as subject_id, HADM_ID as hadm_id, ICD9_CODE as cdi_icd9\n",
    "    FROM `physionet-data.mimiciii_clinical.diagnoses_icd`\n",
    "    WHERE ICD9_CODE = '00845'\n",
    "    ;\n",
    "\"\"\"\n",
    "cdi_icd9 = run_query(query)"
   ]
  },
  {
   "cell_type": "code",
   "execution_count": 14,
   "metadata": {
    "scrolled": true
   },
   "outputs": [],
   "source": [
    "# Merge patient admits df with patients having CDI ICD-9 diagnosis\n",
    "patient_admits = pd.merge(patient_admits,\n",
    "                          cdi_icd9[[\"hadm_id\", \"cdi_icd9\"]],\n",
    "                          how = \"left\",\n",
    "                          on = \"hadm_id\")"
   ]
  },
  {
   "cell_type": "code",
   "execution_count": 15,
   "metadata": {},
   "outputs": [],
   "source": [
    "# Modify column to be binary\n",
    "patient_admits[\"cdi_icd9\"] = patient_admits[\"cdi_icd9\"].fillna(0).map(lambda x: 0 if x == 0 else 1)"
   ]
  },
  {
   "cell_type": "markdown",
   "metadata": {},
   "source": [
    "#### Step 2: Identify Diagnoses Via Microbiology Events\n",
    "\n",
    "The microbiology events table is described as housing traditional culture tests, but is known to contain toxin A/B and other diagnostic tests for CDI. Not shown here, but the lab_events table is restricted to blood gas, hematology and chemistries and does not include CDI testing."
   ]
  },
  {
   "cell_type": "code",
   "execution_count": 16,
   "metadata": {},
   "outputs": [],
   "source": [
    "# Generate dataframe of all stool microbiology tests\n",
    "query = \"\"\"\n",
    "    SELECT *\n",
    "    FROM `physionet-data.mimiciii_clinical.microbiologyevents`\n",
    "    WHERE spec_type_desc LIKE \"STOOL%\" \n",
    "    ;\n",
    "\"\"\"\n",
    "stool_micro_tests = run_query(query)"
   ]
  },
  {
   "cell_type": "code",
   "execution_count": 17,
   "metadata": {},
   "outputs": [
    {
     "data": {
      "text/plain": [
       "Index(['ROW_ID', 'SUBJECT_ID', 'HADM_ID', 'CHARTDATE', 'CHARTTIME',\n",
       "       'SPEC_ITEMID', 'SPEC_TYPE_DESC', 'ORG_ITEMID', 'ORG_NAME',\n",
       "       'ISOLATE_NUM', 'AB_ITEMID', 'AB_NAME', 'DILUTION_TEXT',\n",
       "       'DILUTION_COMPARISON', 'DILUTION_VALUE', 'INTERPRETATION'],\n",
       "      dtype='object')"
      ]
     },
     "execution_count": 17,
     "metadata": {},
     "output_type": "execute_result"
    }
   ],
   "source": [
    "stool_micro_tests.columns"
   ]
  },
  {
   "cell_type": "code",
   "execution_count": 18,
   "metadata": {
    "scrolled": false
   },
   "outputs": [
    {
     "data": {
      "text/plain": [
       "100517    3\n",
       "163327    3\n",
       "181720    3\n",
       "170640    3\n",
       "181968    2\n",
       "         ..\n",
       "111970    1\n",
       "111969    1\n",
       "189030    1\n",
       "159071    1\n",
       "198656    1\n",
       "Name: HADM_ID, Length: 1079, dtype: int64"
      ]
     },
     "execution_count": 18,
     "metadata": {},
     "output_type": "execute_result"
    }
   ],
   "source": [
    "# Organism ID 80139 represents a positive culture result for clostridium difficile\n",
    "cdi_lab_dx = stool_micro_tests[stool_micro_tests[\"ORG_ITEMID\"] == 80139][\"HADM_ID\"]\n",
    "cdi_lab_dx.value_counts()"
   ]
  },
  {
   "cell_type": "markdown",
   "metadata": {},
   "source": [
    "Around 1079 unique patient admissions were associated with a lab confirmed CDI diagnosis. Several of these patients had more than 1 CDI test during the admission.\n",
    "\n",
    "Given 1,444 total CDI admissions, there are several hundred patients without a lab-confirmed CDI diagnosis. It's possible that these patients had a clostridium difficile test that returned negative but were still clinically diagnosed and treated for CDI. \n",
    "\n",
    "Though it would be beneficial to identify these patients, test results not associated with a specific organism could also be ordered for diagnosing other GI conditions (eg other bacterial, viral, parasitic infection). Further, patients often receive several stool microbiology tests over the course of an admission and it would be difficult to determine which test to rely on as the time when CDI was clinically diagnosed. As such, these patients are excluded from further analysis."
   ]
  },
  {
   "cell_type": "markdown",
   "metadata": {},
   "source": [
    "#### Add CDI diagnosis times to patient admits dataframe "
   ]
  },
  {
   "cell_type": "code",
   "execution_count": 19,
   "metadata": {},
   "outputs": [
    {
     "data": {
      "text/plain": [
       "170640    3\n",
       "163327    3\n",
       "181720    3\n",
       "100517    3\n",
       "191576    2\n",
       "         ..\n",
       "101735    1\n",
       "138598    1\n",
       "128362    1\n",
       "111970    1\n",
       "198656    1\n",
       "Name: HADM_ID, Length: 1043, dtype: int64"
      ]
     },
     "execution_count": 19,
     "metadata": {},
     "output_type": "execute_result"
    }
   ],
   "source": [
    "# Count unique chart times of positive CDI tests for each patient admission\n",
    "cdi_lab_dx_count_charttimes = stool_micro_tests[(stool_micro_tests[\"ORG_ITEMID\"] == 80139) &\n",
    "                                                (stool_micro_tests[\"CHARTTIME\"].notnull())]\n",
    "cdi_lab_dx_count_charttimes[\"HADM_ID\"].value_counts()"
   ]
  },
  {
   "cell_type": "code",
   "execution_count": 20,
   "metadata": {
    "scrolled": true
   },
   "outputs": [
    {
     "data": {
      "text/plain": [
       "100517    3\n",
       "163327    3\n",
       "181720    3\n",
       "170640    3\n",
       "181968    2\n",
       "         ..\n",
       "111970    1\n",
       "111969    1\n",
       "189030    1\n",
       "159071    1\n",
       "198656    1\n",
       "Name: HADM_ID, Length: 1079, dtype: int64"
      ]
     },
     "execution_count": 20,
     "metadata": {},
     "output_type": "execute_result"
    }
   ],
   "source": [
    "# Count unique chart dates of positive CDI tests for each patient admission\n",
    "cdi_lab_dx_count_chartdate = stool_micro_tests[(stool_micro_tests[\"ORG_ITEMID\"] == 80139) &\n",
    "                                                (stool_micro_tests[\"CHARTDATE\"].notnull())]\n",
    "cdi_lab_dx_count_chartdate[\"HADM_ID\"].value_counts()"
   ]
  },
  {
   "cell_type": "markdown",
   "metadata": {},
   "source": [
    "While all positive CDI tests are associated with a chart date, 36 patients are missing a chart time (includes time of day as well as date)\n",
    "\n",
    "To maintain the added detail of chart time, missing times are filled in with midnight of that day. Setting missing times to the start of the day:\n",
    "\n",
    "    1) ensures no data gathered after CDI diagnosis is accidentally used in CDI prediction and\n",
    "    2) maintains the spirit of identifying at risk patients well before lab testing is ordered"
   ]
  },
  {
   "cell_type": "code",
   "execution_count": 21,
   "metadata": {},
   "outputs": [
    {
     "name": "stderr",
     "output_type": "stream",
     "text": [
      "C:\\Users\\fuzzyman27\\anaconda3\\envs\\dsi\\lib\\site-packages\\pandas\\core\\indexing.py:480: SettingWithCopyWarning: \n",
      "A value is trying to be set on a copy of a slice from a DataFrame.\n",
      "Try using .loc[row_indexer,col_indexer] = value instead\n",
      "\n",
      "See the caveats in the documentation: http://pandas.pydata.org/pandas-docs/stable/user_guide/indexing.html#returning-a-view-versus-a-copy\n",
      "  self.obj[item] = s\n"
     ]
    }
   ],
   "source": [
    "# Create list of patients with lab confirmed CDI but missing charttime\n",
    "missing_charttime_rows = cdi_lab_dx_count_chartdate[cdi_lab_dx_count_chartdate[\"CHARTTIME\"].isnull()][\"ROW_ID\"].to_list()\n",
    "\n",
    "# Set charttime = chartdate if missing\n",
    "for i in cdi_lab_dx_count_chartdate.index:\n",
    "    chart_date = cdi_lab_dx_count_chartdate.loc[i, \"CHARTDATE\"]\n",
    "    if (cdi_lab_dx_count_chartdate.loc[i, \"ROW_ID\"] in (missing_charttime_rows)):\n",
    "        cdi_lab_dx_count_chartdate.loc[i, \"CHARTTIME\"] = chart_date"
   ]
  },
  {
   "cell_type": "code",
   "execution_count": 22,
   "metadata": {},
   "outputs": [],
   "source": [
    "# Create unique list of admission ID's for positive CDI tests\n",
    "cdi_dx_hadm_list = list(set(cdi_lab_dx_count_chartdate[\"HADM_ID\"].to_list()))"
   ]
  },
  {
   "cell_type": "code",
   "execution_count": 23,
   "metadata": {},
   "outputs": [
    {
     "data": {
      "text/html": [
       "<div>\n",
       "<style scoped>\n",
       "    .dataframe tbody tr th:only-of-type {\n",
       "        vertical-align: middle;\n",
       "    }\n",
       "\n",
       "    .dataframe tbody tr th {\n",
       "        vertical-align: top;\n",
       "    }\n",
       "\n",
       "    .dataframe thead th {\n",
       "        text-align: right;\n",
       "    }\n",
       "</style>\n",
       "<table border=\"1\" class=\"dataframe\">\n",
       "  <thead>\n",
       "    <tr style=\"text-align: right;\">\n",
       "      <th></th>\n",
       "      <th>ROW_ID</th>\n",
       "      <th>SUBJECT_ID</th>\n",
       "      <th>HADM_ID</th>\n",
       "      <th>CHARTDATE</th>\n",
       "      <th>CHARTTIME</th>\n",
       "      <th>SPEC_ITEMID</th>\n",
       "      <th>SPEC_TYPE_DESC</th>\n",
       "      <th>ORG_ITEMID</th>\n",
       "      <th>ORG_NAME</th>\n",
       "      <th>ISOLATE_NUM</th>\n",
       "      <th>AB_ITEMID</th>\n",
       "      <th>AB_NAME</th>\n",
       "      <th>DILUTION_TEXT</th>\n",
       "      <th>DILUTION_COMPARISON</th>\n",
       "      <th>DILUTION_VALUE</th>\n",
       "      <th>INTERPRETATION</th>\n",
       "    </tr>\n",
       "  </thead>\n",
       "  <tbody>\n",
       "    <tr>\n",
       "      <th>26117</th>\n",
       "      <td>528680</td>\n",
       "      <td>69343</td>\n",
       "      <td>100217</td>\n",
       "      <td>2126-04-01</td>\n",
       "      <td>2126-04-01 15:22:00</td>\n",
       "      <td>70064</td>\n",
       "      <td>STOOL</td>\n",
       "      <td>80139.0</td>\n",
       "      <td>CLOSTRIDIUM DIFFICILE</td>\n",
       "      <td>1.0</td>\n",
       "      <td>NaN</td>\n",
       "      <td>None</td>\n",
       "      <td>None</td>\n",
       "      <td>None</td>\n",
       "      <td>NaN</td>\n",
       "      <td>None</td>\n",
       "    </tr>\n",
       "    <tr>\n",
       "      <th>26118</th>\n",
       "      <td>528695</td>\n",
       "      <td>69343</td>\n",
       "      <td>100217</td>\n",
       "      <td>2126-04-05</td>\n",
       "      <td>NaT</td>\n",
       "      <td>70064</td>\n",
       "      <td>STOOL</td>\n",
       "      <td>80139.0</td>\n",
       "      <td>CLOSTRIDIUM DIFFICILE</td>\n",
       "      <td>1.0</td>\n",
       "      <td>NaN</td>\n",
       "      <td>None</td>\n",
       "      <td>None</td>\n",
       "      <td>None</td>\n",
       "      <td>NaN</td>\n",
       "      <td>None</td>\n",
       "    </tr>\n",
       "    <tr>\n",
       "      <th>26034</th>\n",
       "      <td>456396</td>\n",
       "      <td>49079</td>\n",
       "      <td>100234</td>\n",
       "      <td>2118-11-02</td>\n",
       "      <td>2118-11-02 12:10:00</td>\n",
       "      <td>70064</td>\n",
       "      <td>STOOL</td>\n",
       "      <td>80139.0</td>\n",
       "      <td>CLOSTRIDIUM DIFFICILE</td>\n",
       "      <td>1.0</td>\n",
       "      <td>NaN</td>\n",
       "      <td>None</td>\n",
       "      <td>None</td>\n",
       "      <td>None</td>\n",
       "      <td>NaN</td>\n",
       "      <td>None</td>\n",
       "    </tr>\n",
       "    <tr>\n",
       "      <th>292</th>\n",
       "      <td>8130</td>\n",
       "      <td>652</td>\n",
       "      <td>100262</td>\n",
       "      <td>2142-04-28</td>\n",
       "      <td>2142-04-28 00:45:00</td>\n",
       "      <td>70064</td>\n",
       "      <td>STOOL</td>\n",
       "      <td>NaN</td>\n",
       "      <td>None</td>\n",
       "      <td>NaN</td>\n",
       "      <td>NaN</td>\n",
       "      <td>None</td>\n",
       "      <td>None</td>\n",
       "      <td>None</td>\n",
       "      <td>NaN</td>\n",
       "      <td>None</td>\n",
       "    </tr>\n",
       "    <tr>\n",
       "      <th>293</th>\n",
       "      <td>8143</td>\n",
       "      <td>652</td>\n",
       "      <td>100262</td>\n",
       "      <td>2142-05-01</td>\n",
       "      <td>2142-05-01 17:24:00</td>\n",
       "      <td>70064</td>\n",
       "      <td>STOOL</td>\n",
       "      <td>NaN</td>\n",
       "      <td>None</td>\n",
       "      <td>NaN</td>\n",
       "      <td>NaN</td>\n",
       "      <td>None</td>\n",
       "      <td>None</td>\n",
       "      <td>None</td>\n",
       "      <td>NaN</td>\n",
       "      <td>None</td>\n",
       "    </tr>\n",
       "    <tr>\n",
       "      <th>294</th>\n",
       "      <td>8160</td>\n",
       "      <td>652</td>\n",
       "      <td>100262</td>\n",
       "      <td>2142-05-05</td>\n",
       "      <td>2142-05-05 06:03:00</td>\n",
       "      <td>70064</td>\n",
       "      <td>STOOL</td>\n",
       "      <td>NaN</td>\n",
       "      <td>None</td>\n",
       "      <td>NaN</td>\n",
       "      <td>NaN</td>\n",
       "      <td>None</td>\n",
       "      <td>None</td>\n",
       "      <td>None</td>\n",
       "      <td>NaN</td>\n",
       "      <td>None</td>\n",
       "    </tr>\n",
       "    <tr>\n",
       "      <th>295</th>\n",
       "      <td>8163</td>\n",
       "      <td>652</td>\n",
       "      <td>100262</td>\n",
       "      <td>2142-05-06</td>\n",
       "      <td>2142-05-06 06:30:00</td>\n",
       "      <td>70064</td>\n",
       "      <td>STOOL</td>\n",
       "      <td>NaN</td>\n",
       "      <td>None</td>\n",
       "      <td>NaN</td>\n",
       "      <td>NaN</td>\n",
       "      <td>None</td>\n",
       "      <td>None</td>\n",
       "      <td>None</td>\n",
       "      <td>NaN</td>\n",
       "      <td>None</td>\n",
       "    </tr>\n",
       "    <tr>\n",
       "      <th>296</th>\n",
       "      <td>8167</td>\n",
       "      <td>652</td>\n",
       "      <td>100262</td>\n",
       "      <td>2142-05-07</td>\n",
       "      <td>2142-05-07 04:53:00</td>\n",
       "      <td>70064</td>\n",
       "      <td>STOOL</td>\n",
       "      <td>NaN</td>\n",
       "      <td>None</td>\n",
       "      <td>NaN</td>\n",
       "      <td>NaN</td>\n",
       "      <td>None</td>\n",
       "      <td>None</td>\n",
       "      <td>None</td>\n",
       "      <td>NaN</td>\n",
       "      <td>None</td>\n",
       "    </tr>\n",
       "    <tr>\n",
       "      <th>301</th>\n",
       "      <td>8212</td>\n",
       "      <td>652</td>\n",
       "      <td>100262</td>\n",
       "      <td>2142-05-27</td>\n",
       "      <td>2142-05-27 04:12:00</td>\n",
       "      <td>70064</td>\n",
       "      <td>STOOL</td>\n",
       "      <td>NaN</td>\n",
       "      <td>None</td>\n",
       "      <td>NaN</td>\n",
       "      <td>NaN</td>\n",
       "      <td>None</td>\n",
       "      <td>None</td>\n",
       "      <td>None</td>\n",
       "      <td>NaN</td>\n",
       "      <td>None</td>\n",
       "    </tr>\n",
       "    <tr>\n",
       "      <th>25236</th>\n",
       "      <td>8214</td>\n",
       "      <td>652</td>\n",
       "      <td>100262</td>\n",
       "      <td>2142-05-27</td>\n",
       "      <td>2142-05-27 09:50:00</td>\n",
       "      <td>70064</td>\n",
       "      <td>STOOL</td>\n",
       "      <td>80139.0</td>\n",
       "      <td>CLOSTRIDIUM DIFFICILE</td>\n",
       "      <td>1.0</td>\n",
       "      <td>NaN</td>\n",
       "      <td>None</td>\n",
       "      <td>None</td>\n",
       "      <td>None</td>\n",
       "      <td>NaN</td>\n",
       "      <td>None</td>\n",
       "    </tr>\n",
       "    <tr>\n",
       "      <th>15096</th>\n",
       "      <td>381451</td>\n",
       "      <td>28758</td>\n",
       "      <td>100295</td>\n",
       "      <td>2172-01-26</td>\n",
       "      <td>2172-01-26 16:27:00</td>\n",
       "      <td>70064</td>\n",
       "      <td>STOOL</td>\n",
       "      <td>NaN</td>\n",
       "      <td>None</td>\n",
       "      <td>NaN</td>\n",
       "      <td>NaN</td>\n",
       "      <td>None</td>\n",
       "      <td>None</td>\n",
       "      <td>None</td>\n",
       "      <td>NaN</td>\n",
       "      <td>None</td>\n",
       "    </tr>\n",
       "    <tr>\n",
       "      <th>25917</th>\n",
       "      <td>381455</td>\n",
       "      <td>28758</td>\n",
       "      <td>100295</td>\n",
       "      <td>2172-02-02</td>\n",
       "      <td>2172-02-02 08:02:00</td>\n",
       "      <td>70064</td>\n",
       "      <td>STOOL</td>\n",
       "      <td>80139.0</td>\n",
       "      <td>CLOSTRIDIUM DIFFICILE</td>\n",
       "      <td>1.0</td>\n",
       "      <td>NaN</td>\n",
       "      <td>None</td>\n",
       "      <td>None</td>\n",
       "      <td>None</td>\n",
       "      <td>NaN</td>\n",
       "      <td>None</td>\n",
       "    </tr>\n",
       "    <tr>\n",
       "      <th>26215</th>\n",
       "      <td>520406</td>\n",
       "      <td>67117</td>\n",
       "      <td>100325</td>\n",
       "      <td>2135-02-16</td>\n",
       "      <td>2135-02-16 12:30:00</td>\n",
       "      <td>70064</td>\n",
       "      <td>STOOL</td>\n",
       "      <td>80139.0</td>\n",
       "      <td>CLOSTRIDIUM DIFFICILE</td>\n",
       "      <td>1.0</td>\n",
       "      <td>NaN</td>\n",
       "      <td>None</td>\n",
       "      <td>None</td>\n",
       "      <td>None</td>\n",
       "      <td>NaN</td>\n",
       "      <td>None</td>\n",
       "    </tr>\n",
       "    <tr>\n",
       "      <th>16177</th>\n",
       "      <td>402350</td>\n",
       "      <td>30460</td>\n",
       "      <td>100328</td>\n",
       "      <td>2163-01-02</td>\n",
       "      <td>2163-01-02 01:45:00</td>\n",
       "      <td>70064</td>\n",
       "      <td>STOOL</td>\n",
       "      <td>NaN</td>\n",
       "      <td>None</td>\n",
       "      <td>NaN</td>\n",
       "      <td>NaN</td>\n",
       "      <td>None</td>\n",
       "      <td>None</td>\n",
       "      <td>None</td>\n",
       "      <td>NaN</td>\n",
       "      <td>None</td>\n",
       "    </tr>\n",
       "    <tr>\n",
       "      <th>16178</th>\n",
       "      <td>402354</td>\n",
       "      <td>30460</td>\n",
       "      <td>100328</td>\n",
       "      <td>2163-01-04</td>\n",
       "      <td>2163-01-04 05:09:00</td>\n",
       "      <td>70064</td>\n",
       "      <td>STOOL</td>\n",
       "      <td>NaN</td>\n",
       "      <td>None</td>\n",
       "      <td>NaN</td>\n",
       "      <td>NaN</td>\n",
       "      <td>None</td>\n",
       "      <td>None</td>\n",
       "      <td>None</td>\n",
       "      <td>NaN</td>\n",
       "      <td>None</td>\n",
       "    </tr>\n",
       "    <tr>\n",
       "      <th>25939</th>\n",
       "      <td>402357</td>\n",
       "      <td>30460</td>\n",
       "      <td>100328</td>\n",
       "      <td>2163-01-06</td>\n",
       "      <td>2163-01-06 14:08:00</td>\n",
       "      <td>70064</td>\n",
       "      <td>STOOL</td>\n",
       "      <td>80139.0</td>\n",
       "      <td>CLOSTRIDIUM DIFFICILE</td>\n",
       "      <td>1.0</td>\n",
       "      <td>NaN</td>\n",
       "      <td>None</td>\n",
       "      <td>None</td>\n",
       "      <td>None</td>\n",
       "      <td>NaN</td>\n",
       "      <td>None</td>\n",
       "    </tr>\n",
       "    <tr>\n",
       "      <th>25505</th>\n",
       "      <td>162720</td>\n",
       "      <td>12049</td>\n",
       "      <td>100364</td>\n",
       "      <td>2124-02-08</td>\n",
       "      <td>2124-02-08 09:35:00</td>\n",
       "      <td>70064</td>\n",
       "      <td>STOOL</td>\n",
       "      <td>80139.0</td>\n",
       "      <td>CLOSTRIDIUM DIFFICILE</td>\n",
       "      <td>1.0</td>\n",
       "      <td>NaN</td>\n",
       "      <td>None</td>\n",
       "      <td>None</td>\n",
       "      <td>None</td>\n",
       "      <td>NaN</td>\n",
       "      <td>None</td>\n",
       "    </tr>\n",
       "    <tr>\n",
       "      <th>13783</th>\n",
       "      <td>345901</td>\n",
       "      <td>26043</td>\n",
       "      <td>100395</td>\n",
       "      <td>2164-10-19</td>\n",
       "      <td>NaT</td>\n",
       "      <td>70064</td>\n",
       "      <td>STOOL</td>\n",
       "      <td>NaN</td>\n",
       "      <td>None</td>\n",
       "      <td>NaN</td>\n",
       "      <td>NaN</td>\n",
       "      <td>None</td>\n",
       "      <td>None</td>\n",
       "      <td>None</td>\n",
       "      <td>NaN</td>\n",
       "      <td>None</td>\n",
       "    </tr>\n",
       "    <tr>\n",
       "      <th>13784</th>\n",
       "      <td>345905</td>\n",
       "      <td>26043</td>\n",
       "      <td>100395</td>\n",
       "      <td>2164-10-21</td>\n",
       "      <td>2164-10-21 13:20:00</td>\n",
       "      <td>70064</td>\n",
       "      <td>STOOL</td>\n",
       "      <td>NaN</td>\n",
       "      <td>None</td>\n",
       "      <td>NaN</td>\n",
       "      <td>NaN</td>\n",
       "      <td>None</td>\n",
       "      <td>None</td>\n",
       "      <td>None</td>\n",
       "      <td>NaN</td>\n",
       "      <td>None</td>\n",
       "    </tr>\n",
       "    <tr>\n",
       "      <th>25810</th>\n",
       "      <td>345920</td>\n",
       "      <td>26043</td>\n",
       "      <td>100395</td>\n",
       "      <td>2164-10-23</td>\n",
       "      <td>2164-10-23 05:00:00</td>\n",
       "      <td>70064</td>\n",
       "      <td>STOOL</td>\n",
       "      <td>80139.0</td>\n",
       "      <td>CLOSTRIDIUM DIFFICILE</td>\n",
       "      <td>1.0</td>\n",
       "      <td>NaN</td>\n",
       "      <td>None</td>\n",
       "      <td>None</td>\n",
       "      <td>None</td>\n",
       "      <td>NaN</td>\n",
       "      <td>None</td>\n",
       "    </tr>\n",
       "    <tr>\n",
       "      <th>13630</th>\n",
       "      <td>345941</td>\n",
       "      <td>26043</td>\n",
       "      <td>100395</td>\n",
       "      <td>2164-11-06</td>\n",
       "      <td>2164-11-06 03:30:00</td>\n",
       "      <td>70064</td>\n",
       "      <td>STOOL</td>\n",
       "      <td>NaN</td>\n",
       "      <td>None</td>\n",
       "      <td>NaN</td>\n",
       "      <td>NaN</td>\n",
       "      <td>None</td>\n",
       "      <td>None</td>\n",
       "      <td>None</td>\n",
       "      <td>NaN</td>\n",
       "      <td>None</td>\n",
       "    </tr>\n",
       "    <tr>\n",
       "      <th>13631</th>\n",
       "      <td>345942</td>\n",
       "      <td>26043</td>\n",
       "      <td>100395</td>\n",
       "      <td>2164-11-07</td>\n",
       "      <td>2164-11-07 09:45:00</td>\n",
       "      <td>70064</td>\n",
       "      <td>STOOL</td>\n",
       "      <td>NaN</td>\n",
       "      <td>None</td>\n",
       "      <td>NaN</td>\n",
       "      <td>NaN</td>\n",
       "      <td>None</td>\n",
       "      <td>None</td>\n",
       "      <td>None</td>\n",
       "      <td>NaN</td>\n",
       "      <td>None</td>\n",
       "    </tr>\n",
       "    <tr>\n",
       "      <th>13632</th>\n",
       "      <td>345943</td>\n",
       "      <td>26043</td>\n",
       "      <td>100395</td>\n",
       "      <td>2164-11-08</td>\n",
       "      <td>2164-11-08 04:00:00</td>\n",
       "      <td>70064</td>\n",
       "      <td>STOOL</td>\n",
       "      <td>NaN</td>\n",
       "      <td>None</td>\n",
       "      <td>NaN</td>\n",
       "      <td>NaN</td>\n",
       "      <td>None</td>\n",
       "      <td>None</td>\n",
       "      <td>None</td>\n",
       "      <td>NaN</td>\n",
       "      <td>None</td>\n",
       "    </tr>\n",
       "    <tr>\n",
       "      <th>25491</th>\n",
       "      <td>150169</td>\n",
       "      <td>11165</td>\n",
       "      <td>100517</td>\n",
       "      <td>2154-06-12</td>\n",
       "      <td>2154-06-12 22:54:00</td>\n",
       "      <td>70064</td>\n",
       "      <td>STOOL</td>\n",
       "      <td>80139.0</td>\n",
       "      <td>CLOSTRIDIUM DIFFICILE</td>\n",
       "      <td>1.0</td>\n",
       "      <td>NaN</td>\n",
       "      <td>None</td>\n",
       "      <td>None</td>\n",
       "      <td>None</td>\n",
       "      <td>NaN</td>\n",
       "      <td>None</td>\n",
       "    </tr>\n",
       "    <tr>\n",
       "      <th>25492</th>\n",
       "      <td>150172</td>\n",
       "      <td>11165</td>\n",
       "      <td>100517</td>\n",
       "      <td>2154-06-25</td>\n",
       "      <td>2154-06-25 08:32:00</td>\n",
       "      <td>70064</td>\n",
       "      <td>STOOL</td>\n",
       "      <td>80139.0</td>\n",
       "      <td>CLOSTRIDIUM DIFFICILE</td>\n",
       "      <td>1.0</td>\n",
       "      <td>NaN</td>\n",
       "      <td>None</td>\n",
       "      <td>None</td>\n",
       "      <td>None</td>\n",
       "      <td>NaN</td>\n",
       "      <td>None</td>\n",
       "    </tr>\n",
       "    <tr>\n",
       "      <th>25493</th>\n",
       "      <td>150180</td>\n",
       "      <td>11165</td>\n",
       "      <td>100517</td>\n",
       "      <td>2154-07-04</td>\n",
       "      <td>2154-07-04 09:18:00</td>\n",
       "      <td>70064</td>\n",
       "      <td>STOOL</td>\n",
       "      <td>80139.0</td>\n",
       "      <td>CLOSTRIDIUM DIFFICILE</td>\n",
       "      <td>1.0</td>\n",
       "      <td>NaN</td>\n",
       "      <td>None</td>\n",
       "      <td>None</td>\n",
       "      <td>None</td>\n",
       "      <td>NaN</td>\n",
       "      <td>None</td>\n",
       "    </tr>\n",
       "    <tr>\n",
       "      <th>25741</th>\n",
       "      <td>310847</td>\n",
       "      <td>23535</td>\n",
       "      <td>100598</td>\n",
       "      <td>2179-10-21</td>\n",
       "      <td>2179-10-21 17:30:00</td>\n",
       "      <td>70064</td>\n",
       "      <td>STOOL</td>\n",
       "      <td>80139.0</td>\n",
       "      <td>CLOSTRIDIUM DIFFICILE</td>\n",
       "      <td>1.0</td>\n",
       "      <td>NaN</td>\n",
       "      <td>None</td>\n",
       "      <td>None</td>\n",
       "      <td>None</td>\n",
       "      <td>NaN</td>\n",
       "      <td>None</td>\n",
       "    </tr>\n",
       "    <tr>\n",
       "      <th>12353</th>\n",
       "      <td>310862</td>\n",
       "      <td>23535</td>\n",
       "      <td>100598</td>\n",
       "      <td>2179-10-24</td>\n",
       "      <td>2179-10-24 02:00:00</td>\n",
       "      <td>70064</td>\n",
       "      <td>STOOL</td>\n",
       "      <td>NaN</td>\n",
       "      <td>None</td>\n",
       "      <td>NaN</td>\n",
       "      <td>NaN</td>\n",
       "      <td>None</td>\n",
       "      <td>None</td>\n",
       "      <td>None</td>\n",
       "      <td>NaN</td>\n",
       "      <td>None</td>\n",
       "    </tr>\n",
       "    <tr>\n",
       "      <th>10734</th>\n",
       "      <td>271165</td>\n",
       "      <td>20318</td>\n",
       "      <td>100638</td>\n",
       "      <td>2158-04-11</td>\n",
       "      <td>2158-04-11 10:39:00</td>\n",
       "      <td>70064</td>\n",
       "      <td>STOOL</td>\n",
       "      <td>NaN</td>\n",
       "      <td>None</td>\n",
       "      <td>NaN</td>\n",
       "      <td>NaN</td>\n",
       "      <td>None</td>\n",
       "      <td>None</td>\n",
       "      <td>None</td>\n",
       "      <td>NaN</td>\n",
       "      <td>None</td>\n",
       "    </tr>\n",
       "    <tr>\n",
       "      <th>25671</th>\n",
       "      <td>271166</td>\n",
       "      <td>20318</td>\n",
       "      <td>100638</td>\n",
       "      <td>2158-04-12</td>\n",
       "      <td>2158-04-12 08:30:00</td>\n",
       "      <td>70064</td>\n",
       "      <td>STOOL</td>\n",
       "      <td>80139.0</td>\n",
       "      <td>CLOSTRIDIUM DIFFICILE</td>\n",
       "      <td>1.0</td>\n",
       "      <td>NaN</td>\n",
       "      <td>None</td>\n",
       "      <td>None</td>\n",
       "      <td>None</td>\n",
       "      <td>NaN</td>\n",
       "      <td>None</td>\n",
       "    </tr>\n",
       "    <tr>\n",
       "      <th>...</th>\n",
       "      <td>...</td>\n",
       "      <td>...</td>\n",
       "      <td>...</td>\n",
       "      <td>...</td>\n",
       "      <td>...</td>\n",
       "      <td>...</td>\n",
       "      <td>...</td>\n",
       "      <td>...</td>\n",
       "      <td>...</td>\n",
       "      <td>...</td>\n",
       "      <td>...</td>\n",
       "      <td>...</td>\n",
       "      <td>...</td>\n",
       "      <td>...</td>\n",
       "      <td>...</td>\n",
       "      <td>...</td>\n",
       "    </tr>\n",
       "    <tr>\n",
       "      <th>14267</th>\n",
       "      <td>359565</td>\n",
       "      <td>27049</td>\n",
       "      <td>198778</td>\n",
       "      <td>2198-12-05</td>\n",
       "      <td>2198-12-05 12:18:00</td>\n",
       "      <td>70064</td>\n",
       "      <td>STOOL</td>\n",
       "      <td>NaN</td>\n",
       "      <td>None</td>\n",
       "      <td>NaN</td>\n",
       "      <td>NaN</td>\n",
       "      <td>None</td>\n",
       "      <td>None</td>\n",
       "      <td>None</td>\n",
       "      <td>NaN</td>\n",
       "      <td>None</td>\n",
       "    </tr>\n",
       "    <tr>\n",
       "      <th>26023</th>\n",
       "      <td>442611</td>\n",
       "      <td>45092</td>\n",
       "      <td>198934</td>\n",
       "      <td>2156-09-06</td>\n",
       "      <td>2156-09-06 17:48:00</td>\n",
       "      <td>70064</td>\n",
       "      <td>STOOL</td>\n",
       "      <td>80139.0</td>\n",
       "      <td>CLOSTRIDIUM DIFFICILE</td>\n",
       "      <td>1.0</td>\n",
       "      <td>NaN</td>\n",
       "      <td>None</td>\n",
       "      <td>None</td>\n",
       "      <td>None</td>\n",
       "      <td>NaN</td>\n",
       "      <td>None</td>\n",
       "    </tr>\n",
       "    <tr>\n",
       "      <th>18041</th>\n",
       "      <td>442616</td>\n",
       "      <td>45092</td>\n",
       "      <td>198934</td>\n",
       "      <td>2156-09-12</td>\n",
       "      <td>2156-09-12 07:54:00</td>\n",
       "      <td>70064</td>\n",
       "      <td>STOOL</td>\n",
       "      <td>NaN</td>\n",
       "      <td>None</td>\n",
       "      <td>NaN</td>\n",
       "      <td>NaN</td>\n",
       "      <td>None</td>\n",
       "      <td>None</td>\n",
       "      <td>None</td>\n",
       "      <td>NaN</td>\n",
       "      <td>None</td>\n",
       "    </tr>\n",
       "    <tr>\n",
       "      <th>18042</th>\n",
       "      <td>442617</td>\n",
       "      <td>45092</td>\n",
       "      <td>198934</td>\n",
       "      <td>2156-09-13</td>\n",
       "      <td>2156-09-13 09:04:00</td>\n",
       "      <td>70064</td>\n",
       "      <td>STOOL</td>\n",
       "      <td>NaN</td>\n",
       "      <td>None</td>\n",
       "      <td>NaN</td>\n",
       "      <td>NaN</td>\n",
       "      <td>None</td>\n",
       "      <td>None</td>\n",
       "      <td>None</td>\n",
       "      <td>NaN</td>\n",
       "      <td>None</td>\n",
       "    </tr>\n",
       "    <tr>\n",
       "      <th>26024</th>\n",
       "      <td>442618</td>\n",
       "      <td>45092</td>\n",
       "      <td>198934</td>\n",
       "      <td>2156-09-14</td>\n",
       "      <td>2156-09-14 00:40:00</td>\n",
       "      <td>70064</td>\n",
       "      <td>STOOL</td>\n",
       "      <td>80139.0</td>\n",
       "      <td>CLOSTRIDIUM DIFFICILE</td>\n",
       "      <td>1.0</td>\n",
       "      <td>NaN</td>\n",
       "      <td>None</td>\n",
       "      <td>None</td>\n",
       "      <td>None</td>\n",
       "      <td>NaN</td>\n",
       "      <td>None</td>\n",
       "    </tr>\n",
       "    <tr>\n",
       "      <th>18043</th>\n",
       "      <td>442623</td>\n",
       "      <td>45092</td>\n",
       "      <td>198934</td>\n",
       "      <td>2156-09-19</td>\n",
       "      <td>2156-09-19 06:48:00</td>\n",
       "      <td>70064</td>\n",
       "      <td>STOOL</td>\n",
       "      <td>NaN</td>\n",
       "      <td>None</td>\n",
       "      <td>NaN</td>\n",
       "      <td>NaN</td>\n",
       "      <td>None</td>\n",
       "      <td>None</td>\n",
       "      <td>None</td>\n",
       "      <td>NaN</td>\n",
       "      <td>None</td>\n",
       "    </tr>\n",
       "    <tr>\n",
       "      <th>1082</th>\n",
       "      <td>26317</td>\n",
       "      <td>2113</td>\n",
       "      <td>199047</td>\n",
       "      <td>2187-05-03</td>\n",
       "      <td>2187-05-03 10:08:00</td>\n",
       "      <td>70064</td>\n",
       "      <td>STOOL</td>\n",
       "      <td>NaN</td>\n",
       "      <td>None</td>\n",
       "      <td>NaN</td>\n",
       "      <td>NaN</td>\n",
       "      <td>None</td>\n",
       "      <td>None</td>\n",
       "      <td>None</td>\n",
       "      <td>NaN</td>\n",
       "      <td>None</td>\n",
       "    </tr>\n",
       "    <tr>\n",
       "      <th>1083</th>\n",
       "      <td>26319</td>\n",
       "      <td>2113</td>\n",
       "      <td>199047</td>\n",
       "      <td>2187-05-06</td>\n",
       "      <td>2187-05-06 21:56:00</td>\n",
       "      <td>70064</td>\n",
       "      <td>STOOL</td>\n",
       "      <td>NaN</td>\n",
       "      <td>None</td>\n",
       "      <td>NaN</td>\n",
       "      <td>NaN</td>\n",
       "      <td>None</td>\n",
       "      <td>None</td>\n",
       "      <td>None</td>\n",
       "      <td>NaN</td>\n",
       "      <td>None</td>\n",
       "    </tr>\n",
       "    <tr>\n",
       "      <th>1084</th>\n",
       "      <td>26322</td>\n",
       "      <td>2113</td>\n",
       "      <td>199047</td>\n",
       "      <td>2187-05-08</td>\n",
       "      <td>2187-05-08 20:02:00</td>\n",
       "      <td>70064</td>\n",
       "      <td>STOOL</td>\n",
       "      <td>NaN</td>\n",
       "      <td>None</td>\n",
       "      <td>NaN</td>\n",
       "      <td>NaN</td>\n",
       "      <td>None</td>\n",
       "      <td>None</td>\n",
       "      <td>None</td>\n",
       "      <td>NaN</td>\n",
       "      <td>None</td>\n",
       "    </tr>\n",
       "    <tr>\n",
       "      <th>25271</th>\n",
       "      <td>26320</td>\n",
       "      <td>2113</td>\n",
       "      <td>199047</td>\n",
       "      <td>2187-05-08</td>\n",
       "      <td>2187-05-08 11:24:00</td>\n",
       "      <td>70064</td>\n",
       "      <td>STOOL</td>\n",
       "      <td>80139.0</td>\n",
       "      <td>CLOSTRIDIUM DIFFICILE</td>\n",
       "      <td>1.0</td>\n",
       "      <td>NaN</td>\n",
       "      <td>None</td>\n",
       "      <td>None</td>\n",
       "      <td>None</td>\n",
       "      <td>NaN</td>\n",
       "      <td>None</td>\n",
       "    </tr>\n",
       "    <tr>\n",
       "      <th>25950</th>\n",
       "      <td>403723</td>\n",
       "      <td>30607</td>\n",
       "      <td>199225</td>\n",
       "      <td>2187-06-16</td>\n",
       "      <td>2187-06-16 11:21:00</td>\n",
       "      <td>70064</td>\n",
       "      <td>STOOL</td>\n",
       "      <td>80139.0</td>\n",
       "      <td>CLOSTRIDIUM DIFFICILE</td>\n",
       "      <td>1.0</td>\n",
       "      <td>NaN</td>\n",
       "      <td>None</td>\n",
       "      <td>None</td>\n",
       "      <td>None</td>\n",
       "      <td>NaN</td>\n",
       "      <td>None</td>\n",
       "    </tr>\n",
       "    <tr>\n",
       "      <th>451</th>\n",
       "      <td>13855</td>\n",
       "      <td>1006</td>\n",
       "      <td>199286</td>\n",
       "      <td>2159-07-27</td>\n",
       "      <td>2159-07-27 21:37:00</td>\n",
       "      <td>70064</td>\n",
       "      <td>STOOL</td>\n",
       "      <td>NaN</td>\n",
       "      <td>None</td>\n",
       "      <td>NaN</td>\n",
       "      <td>NaN</td>\n",
       "      <td>None</td>\n",
       "      <td>None</td>\n",
       "      <td>None</td>\n",
       "      <td>NaN</td>\n",
       "      <td>None</td>\n",
       "    </tr>\n",
       "    <tr>\n",
       "      <th>25245</th>\n",
       "      <td>13869</td>\n",
       "      <td>1006</td>\n",
       "      <td>199286</td>\n",
       "      <td>2159-08-01</td>\n",
       "      <td>2159-08-01 00:29:00</td>\n",
       "      <td>70064</td>\n",
       "      <td>STOOL</td>\n",
       "      <td>80139.0</td>\n",
       "      <td>CLOSTRIDIUM DIFFICILE</td>\n",
       "      <td>1.0</td>\n",
       "      <td>NaN</td>\n",
       "      <td>None</td>\n",
       "      <td>None</td>\n",
       "      <td>None</td>\n",
       "      <td>NaN</td>\n",
       "      <td>None</td>\n",
       "    </tr>\n",
       "    <tr>\n",
       "      <th>13874</th>\n",
       "      <td>347882</td>\n",
       "      <td>26150</td>\n",
       "      <td>199416</td>\n",
       "      <td>2177-07-31</td>\n",
       "      <td>2177-07-31 06:30:00</td>\n",
       "      <td>70064</td>\n",
       "      <td>STOOL</td>\n",
       "      <td>NaN</td>\n",
       "      <td>None</td>\n",
       "      <td>NaN</td>\n",
       "      <td>NaN</td>\n",
       "      <td>None</td>\n",
       "      <td>None</td>\n",
       "      <td>None</td>\n",
       "      <td>NaN</td>\n",
       "      <td>None</td>\n",
       "    </tr>\n",
       "    <tr>\n",
       "      <th>13979</th>\n",
       "      <td>347911</td>\n",
       "      <td>26150</td>\n",
       "      <td>199416</td>\n",
       "      <td>2177-08-01</td>\n",
       "      <td>2177-08-01 22:00:00</td>\n",
       "      <td>70064</td>\n",
       "      <td>STOOL</td>\n",
       "      <td>NaN</td>\n",
       "      <td>None</td>\n",
       "      <td>NaN</td>\n",
       "      <td>NaN</td>\n",
       "      <td>None</td>\n",
       "      <td>None</td>\n",
       "      <td>None</td>\n",
       "      <td>NaN</td>\n",
       "      <td>None</td>\n",
       "    </tr>\n",
       "    <tr>\n",
       "      <th>25820</th>\n",
       "      <td>347912</td>\n",
       "      <td>26150</td>\n",
       "      <td>199416</td>\n",
       "      <td>2177-08-14</td>\n",
       "      <td>NaT</td>\n",
       "      <td>70064</td>\n",
       "      <td>STOOL</td>\n",
       "      <td>80139.0</td>\n",
       "      <td>CLOSTRIDIUM DIFFICILE</td>\n",
       "      <td>1.0</td>\n",
       "      <td>NaN</td>\n",
       "      <td>None</td>\n",
       "      <td>None</td>\n",
       "      <td>None</td>\n",
       "      <td>NaN</td>\n",
       "      <td>None</td>\n",
       "    </tr>\n",
       "    <tr>\n",
       "      <th>25923</th>\n",
       "      <td>395801</td>\n",
       "      <td>29967</td>\n",
       "      <td>199462</td>\n",
       "      <td>2138-10-05</td>\n",
       "      <td>2138-10-05 16:00:00</td>\n",
       "      <td>70064</td>\n",
       "      <td>STOOL</td>\n",
       "      <td>80139.0</td>\n",
       "      <td>CLOSTRIDIUM DIFFICILE</td>\n",
       "      <td>1.0</td>\n",
       "      <td>NaN</td>\n",
       "      <td>None</td>\n",
       "      <td>None</td>\n",
       "      <td>None</td>\n",
       "      <td>NaN</td>\n",
       "      <td>None</td>\n",
       "    </tr>\n",
       "    <tr>\n",
       "      <th>15872</th>\n",
       "      <td>395802</td>\n",
       "      <td>29967</td>\n",
       "      <td>199462</td>\n",
       "      <td>2138-10-08</td>\n",
       "      <td>2138-10-08 15:00:00</td>\n",
       "      <td>70064</td>\n",
       "      <td>STOOL</td>\n",
       "      <td>NaN</td>\n",
       "      <td>None</td>\n",
       "      <td>NaN</td>\n",
       "      <td>NaN</td>\n",
       "      <td>None</td>\n",
       "      <td>None</td>\n",
       "      <td>None</td>\n",
       "      <td>NaN</td>\n",
       "      <td>None</td>\n",
       "    </tr>\n",
       "    <tr>\n",
       "      <th>15873</th>\n",
       "      <td>395803</td>\n",
       "      <td>29967</td>\n",
       "      <td>199462</td>\n",
       "      <td>2138-10-08</td>\n",
       "      <td>2138-10-08 15:00:00</td>\n",
       "      <td>70064</td>\n",
       "      <td>STOOL</td>\n",
       "      <td>NaN</td>\n",
       "      <td>None</td>\n",
       "      <td>NaN</td>\n",
       "      <td>NaN</td>\n",
       "      <td>None</td>\n",
       "      <td>None</td>\n",
       "      <td>None</td>\n",
       "      <td>NaN</td>\n",
       "      <td>None</td>\n",
       "    </tr>\n",
       "    <tr>\n",
       "      <th>15874</th>\n",
       "      <td>395818</td>\n",
       "      <td>29967</td>\n",
       "      <td>199462</td>\n",
       "      <td>2138-10-12</td>\n",
       "      <td>2138-10-12 20:30:00</td>\n",
       "      <td>70064</td>\n",
       "      <td>STOOL</td>\n",
       "      <td>NaN</td>\n",
       "      <td>None</td>\n",
       "      <td>NaN</td>\n",
       "      <td>NaN</td>\n",
       "      <td>None</td>\n",
       "      <td>None</td>\n",
       "      <td>None</td>\n",
       "      <td>NaN</td>\n",
       "      <td>None</td>\n",
       "    </tr>\n",
       "    <tr>\n",
       "      <th>6609</th>\n",
       "      <td>167317</td>\n",
       "      <td>12483</td>\n",
       "      <td>199482</td>\n",
       "      <td>2132-02-18</td>\n",
       "      <td>2132-02-18 17:21:00</td>\n",
       "      <td>70064</td>\n",
       "      <td>STOOL</td>\n",
       "      <td>NaN</td>\n",
       "      <td>None</td>\n",
       "      <td>NaN</td>\n",
       "      <td>NaN</td>\n",
       "      <td>None</td>\n",
       "      <td>None</td>\n",
       "      <td>None</td>\n",
       "      <td>NaN</td>\n",
       "      <td>None</td>\n",
       "    </tr>\n",
       "    <tr>\n",
       "      <th>25506</th>\n",
       "      <td>167316</td>\n",
       "      <td>12483</td>\n",
       "      <td>199482</td>\n",
       "      <td>2132-02-18</td>\n",
       "      <td>2132-02-18 02:28:00</td>\n",
       "      <td>70064</td>\n",
       "      <td>STOOL</td>\n",
       "      <td>80139.0</td>\n",
       "      <td>CLOSTRIDIUM DIFFICILE</td>\n",
       "      <td>1.0</td>\n",
       "      <td>NaN</td>\n",
       "      <td>None</td>\n",
       "      <td>None</td>\n",
       "      <td>None</td>\n",
       "      <td>NaN</td>\n",
       "      <td>None</td>\n",
       "    </tr>\n",
       "    <tr>\n",
       "      <th>6610</th>\n",
       "      <td>167320</td>\n",
       "      <td>12483</td>\n",
       "      <td>199482</td>\n",
       "      <td>2132-02-20</td>\n",
       "      <td>2132-02-20 08:05:00</td>\n",
       "      <td>70064</td>\n",
       "      <td>STOOL</td>\n",
       "      <td>NaN</td>\n",
       "      <td>None</td>\n",
       "      <td>NaN</td>\n",
       "      <td>NaN</td>\n",
       "      <td>None</td>\n",
       "      <td>None</td>\n",
       "      <td>None</td>\n",
       "      <td>NaN</td>\n",
       "      <td>None</td>\n",
       "    </tr>\n",
       "    <tr>\n",
       "      <th>6611</th>\n",
       "      <td>167330</td>\n",
       "      <td>12483</td>\n",
       "      <td>199482</td>\n",
       "      <td>2132-02-26</td>\n",
       "      <td>2132-02-26 12:39:00</td>\n",
       "      <td>70064</td>\n",
       "      <td>STOOL</td>\n",
       "      <td>NaN</td>\n",
       "      <td>None</td>\n",
       "      <td>NaN</td>\n",
       "      <td>NaN</td>\n",
       "      <td>None</td>\n",
       "      <td>None</td>\n",
       "      <td>None</td>\n",
       "      <td>NaN</td>\n",
       "      <td>None</td>\n",
       "    </tr>\n",
       "    <tr>\n",
       "      <th>6612</th>\n",
       "      <td>167334</td>\n",
       "      <td>12483</td>\n",
       "      <td>199482</td>\n",
       "      <td>2132-03-02</td>\n",
       "      <td>2132-03-02 17:39:00</td>\n",
       "      <td>70064</td>\n",
       "      <td>STOOL</td>\n",
       "      <td>NaN</td>\n",
       "      <td>None</td>\n",
       "      <td>NaN</td>\n",
       "      <td>NaN</td>\n",
       "      <td>None</td>\n",
       "      <td>None</td>\n",
       "      <td>None</td>\n",
       "      <td>NaN</td>\n",
       "      <td>None</td>\n",
       "    </tr>\n",
       "    <tr>\n",
       "      <th>6613</th>\n",
       "      <td>167345</td>\n",
       "      <td>12483</td>\n",
       "      <td>199482</td>\n",
       "      <td>2132-03-05</td>\n",
       "      <td>2132-03-05 13:52:00</td>\n",
       "      <td>70064</td>\n",
       "      <td>STOOL</td>\n",
       "      <td>NaN</td>\n",
       "      <td>None</td>\n",
       "      <td>NaN</td>\n",
       "      <td>NaN</td>\n",
       "      <td>None</td>\n",
       "      <td>None</td>\n",
       "      <td>None</td>\n",
       "      <td>NaN</td>\n",
       "      <td>None</td>\n",
       "    </tr>\n",
       "    <tr>\n",
       "      <th>6614</th>\n",
       "      <td>167346</td>\n",
       "      <td>12483</td>\n",
       "      <td>199482</td>\n",
       "      <td>2132-03-08</td>\n",
       "      <td>2132-03-08 19:25:00</td>\n",
       "      <td>70064</td>\n",
       "      <td>STOOL</td>\n",
       "      <td>NaN</td>\n",
       "      <td>None</td>\n",
       "      <td>NaN</td>\n",
       "      <td>NaN</td>\n",
       "      <td>None</td>\n",
       "      <td>None</td>\n",
       "      <td>None</td>\n",
       "      <td>NaN</td>\n",
       "      <td>None</td>\n",
       "    </tr>\n",
       "    <tr>\n",
       "      <th>6636</th>\n",
       "      <td>167350</td>\n",
       "      <td>12483</td>\n",
       "      <td>199482</td>\n",
       "      <td>2132-03-11</td>\n",
       "      <td>2132-03-11 14:16:00</td>\n",
       "      <td>70064</td>\n",
       "      <td>STOOL</td>\n",
       "      <td>NaN</td>\n",
       "      <td>None</td>\n",
       "      <td>NaN</td>\n",
       "      <td>NaN</td>\n",
       "      <td>None</td>\n",
       "      <td>None</td>\n",
       "      <td>None</td>\n",
       "      <td>NaN</td>\n",
       "      <td>None</td>\n",
       "    </tr>\n",
       "    <tr>\n",
       "      <th>26064</th>\n",
       "      <td>470783</td>\n",
       "      <td>52952</td>\n",
       "      <td>199486</td>\n",
       "      <td>2189-07-20</td>\n",
       "      <td>2189-07-20 10:23:00</td>\n",
       "      <td>70064</td>\n",
       "      <td>STOOL</td>\n",
       "      <td>80139.0</td>\n",
       "      <td>CLOSTRIDIUM DIFFICILE</td>\n",
       "      <td>1.0</td>\n",
       "      <td>NaN</td>\n",
       "      <td>None</td>\n",
       "      <td>None</td>\n",
       "      <td>None</td>\n",
       "      <td>NaN</td>\n",
       "      <td>None</td>\n",
       "    </tr>\n",
       "    <tr>\n",
       "      <th>25688</th>\n",
       "      <td>282812</td>\n",
       "      <td>21220</td>\n",
       "      <td>199900</td>\n",
       "      <td>2173-11-24</td>\n",
       "      <td>2173-11-24 14:14:00</td>\n",
       "      <td>70064</td>\n",
       "      <td>STOOL</td>\n",
       "      <td>80139.0</td>\n",
       "      <td>CLOSTRIDIUM DIFFICILE</td>\n",
       "      <td>1.0</td>\n",
       "      <td>NaN</td>\n",
       "      <td>None</td>\n",
       "      <td>None</td>\n",
       "      <td>None</td>\n",
       "      <td>NaN</td>\n",
       "      <td>None</td>\n",
       "    </tr>\n",
       "  </tbody>\n",
       "</table>\n",
       "<p>2708 rows × 16 columns</p>\n",
       "</div>"
      ],
      "text/plain": [
       "       ROW_ID  SUBJECT_ID  HADM_ID  CHARTDATE           CHARTTIME  \\\n",
       "26117  528680       69343   100217 2126-04-01 2126-04-01 15:22:00   \n",
       "26118  528695       69343   100217 2126-04-05                 NaT   \n",
       "26034  456396       49079   100234 2118-11-02 2118-11-02 12:10:00   \n",
       "292      8130         652   100262 2142-04-28 2142-04-28 00:45:00   \n",
       "293      8143         652   100262 2142-05-01 2142-05-01 17:24:00   \n",
       "...       ...         ...      ...        ...                 ...   \n",
       "6613   167345       12483   199482 2132-03-05 2132-03-05 13:52:00   \n",
       "6614   167346       12483   199482 2132-03-08 2132-03-08 19:25:00   \n",
       "6636   167350       12483   199482 2132-03-11 2132-03-11 14:16:00   \n",
       "26064  470783       52952   199486 2189-07-20 2189-07-20 10:23:00   \n",
       "25688  282812       21220   199900 2173-11-24 2173-11-24 14:14:00   \n",
       "\n",
       "       SPEC_ITEMID SPEC_TYPE_DESC  ORG_ITEMID               ORG_NAME  \\\n",
       "26117        70064          STOOL     80139.0  CLOSTRIDIUM DIFFICILE   \n",
       "26118        70064          STOOL     80139.0  CLOSTRIDIUM DIFFICILE   \n",
       "26034        70064          STOOL     80139.0  CLOSTRIDIUM DIFFICILE   \n",
       "292          70064          STOOL         NaN                   None   \n",
       "293          70064          STOOL         NaN                   None   \n",
       "...            ...            ...         ...                    ...   \n",
       "6613         70064          STOOL         NaN                   None   \n",
       "6614         70064          STOOL         NaN                   None   \n",
       "6636         70064          STOOL         NaN                   None   \n",
       "26064        70064          STOOL     80139.0  CLOSTRIDIUM DIFFICILE   \n",
       "25688        70064          STOOL     80139.0  CLOSTRIDIUM DIFFICILE   \n",
       "\n",
       "       ISOLATE_NUM  AB_ITEMID AB_NAME DILUTION_TEXT DILUTION_COMPARISON  \\\n",
       "26117          1.0        NaN    None          None                None   \n",
       "26118          1.0        NaN    None          None                None   \n",
       "26034          1.0        NaN    None          None                None   \n",
       "292            NaN        NaN    None          None                None   \n",
       "293            NaN        NaN    None          None                None   \n",
       "...            ...        ...     ...           ...                 ...   \n",
       "6613           NaN        NaN    None          None                None   \n",
       "6614           NaN        NaN    None          None                None   \n",
       "6636           NaN        NaN    None          None                None   \n",
       "26064          1.0        NaN    None          None                None   \n",
       "25688          1.0        NaN    None          None                None   \n",
       "\n",
       "       DILUTION_VALUE INTERPRETATION  \n",
       "26117             NaN           None  \n",
       "26118             NaN           None  \n",
       "26034             NaN           None  \n",
       "292               NaN           None  \n",
       "293               NaN           None  \n",
       "...               ...            ...  \n",
       "6613              NaN           None  \n",
       "6614              NaN           None  \n",
       "6636              NaN           None  \n",
       "26064             NaN           None  \n",
       "25688             NaN           None  \n",
       "\n",
       "[2708 rows x 16 columns]"
      ]
     },
     "execution_count": 23,
     "metadata": {},
     "output_type": "execute_result"
    }
   ],
   "source": [
    "# Save for later - order of stool tests\n",
    "stool_micro_tests[((stool_micro_tests[\"ORG_ITEMID\"].isnull()) | (stool_micro_tests[\"ORG_ITEMID\"] == 80139))\n",
    "                   & stool_micro_tests[\"HADM_ID\"].isin(cdi_dx_hadm_list)].sort_values(by = [\"HADM_ID\", \"CHARTDATE\"])"
   ]
  },
  {
   "cell_type": "code",
   "execution_count": 24,
   "metadata": {},
   "outputs": [],
   "source": [
    "# Iterate through admission ID's and identify earliest diagnosis when >1 test was ordered\n",
    "first_cdi_dx_df = pd.DataFrame()\n",
    "first_cdi_dx_df[\"hadm_id\"] = cdi_dx_hadm_list\n",
    "first_cdi_dx_charttime = []\n",
    "for admit in cdi_dx_hadm_list:\n",
    "    cdi_test_df = cdi_lab_dx_count_chartdate[cdi_lab_dx_count_chartdate[\"HADM_ID\"] == admit]\n",
    "    time = cdi_test_df[\"CHARTTIME\"].min()\n",
    "    first_cdi_dx_charttime.append(time)\n",
    "first_cdi_dx_df[\"cdi_dx_charttime\"] = first_cdi_dx_charttime"
   ]
  },
  {
   "cell_type": "code",
   "execution_count": 25,
   "metadata": {},
   "outputs": [],
   "source": [
    "# Add CDI dx times to patient admits df\n",
    "patient_admits = pd.merge(patient_admits,\n",
    "                          first_cdi_dx_df,\n",
    "                          on = \"hadm_id\",\n",
    "                          how = \"left\")"
   ]
  },
  {
   "cell_type": "code",
   "execution_count": 26,
   "metadata": {},
   "outputs": [],
   "source": [
    "patient_admits[\"cdi_lab_dx\"] = patient_admits[\"cdi_dx_charttime\"].isnull().map(lambda x: 1 if x == False else 0)"
   ]
  },
  {
   "cell_type": "code",
   "execution_count": 27,
   "metadata": {},
   "outputs": [
    {
     "data": {
      "text/plain": [
       "Index(['subject_id', 'hadm_id', 'icustay_id', 'intime', 'outtime', 'los',\n",
       "       'icu_stay_seq'],\n",
       "      dtype='object')"
      ]
     },
     "execution_count": 27,
     "metadata": {},
     "output_type": "execute_result"
    }
   ],
   "source": [
    "icu_stays.columns"
   ]
  },
  {
   "cell_type": "markdown",
   "metadata": {},
   "source": [
    "#### Merge Unique ICU Stays With Patient Admissions\n",
    "\n",
    "Given predictions will be made each time a patient is still in the hospital two days after entering the ICU, unique patient admissions now need to be converted to include all unique ICU stays"
   ]
  },
  {
   "cell_type": "code",
   "execution_count": 28,
   "metadata": {},
   "outputs": [],
   "source": [
    "patient_admits = pd.merge(patient_admits,\n",
    "                          icu_stays[[\"hadm_id\",\n",
    "                                     \"intime\",\n",
    "                                     \"outtime\",\n",
    "                                     \"los\",\n",
    "                                    \"icu_stay_seq\",\n",
    "                                    \"icustay_id\"]].rename(columns = {\"intime\" : \"icu_intime\",\n",
    "                                                               \"outtime\" : \"icu_outtime\",\n",
    "                                                               \"los\" : \"icu_los\"}),\n",
    "         how = \"left\",\n",
    "         on = \"hadm_id\")"
   ]
  },
  {
   "cell_type": "markdown",
   "metadata": {},
   "source": [
    "##### Convert icu intime and outtime to Timestamp data types"
   ]
  },
  {
   "cell_type": "code",
   "execution_count": 29,
   "metadata": {},
   "outputs": [],
   "source": [
    "adj_intime = []\n",
    "adj_outtime = []\n",
    "\n",
    "for i in patient_admits.index:\n",
    "    admit_icu_stays = patient_admits.loc[i, \"admit_icu_stays\"]\n",
    "    if admit_icu_stays > 0:\n",
    "        adj_intime.append(pd.Timestamp(patient_admits[\"icu_intime\"][i]))\n",
    "        adj_outtime.append(pd.Timestamp(patient_admits[\"icu_outtime\"][i]))\n",
    "    else:\n",
    "        adj_intime.append(None)\n",
    "        adj_outtime.append(None)"
   ]
  },
  {
   "cell_type": "code",
   "execution_count": 30,
   "metadata": {},
   "outputs": [],
   "source": [
    "patient_admits[\"icu_intime\"] = adj_intime\n",
    "patient_admits[\"icu_outtime\"] = adj_outtime"
   ]
  },
  {
   "cell_type": "code",
   "execution_count": 31,
   "metadata": {},
   "outputs": [
    {
     "name": "stdout",
     "output_type": "stream",
     "text": [
      "datetime64[ns]\n",
      "datetime64[ns]\n",
      "object\n"
     ]
    }
   ],
   "source": [
    "# Confirm data types\n",
    "print(patient_admits[\"icu_intime\"].dtypes)\n",
    "print(patient_admits[\"icu_outtime\"].dtypes)\n",
    "print(patient_admits[\"icu_los\"].dtypes)"
   ]
  },
  {
   "cell_type": "code",
   "execution_count": 32,
   "metadata": {
    "scrolled": true
   },
   "outputs": [
    {
     "data": {
      "text/plain": [
       "26999    0 days 16:05:00\n",
       "13141    0 days 21:30:00\n",
       "19157             0.0001\n",
       "28282             0.0002\n",
       "11286             0.0003\n",
       "              ...       \n",
       "62347                NaN\n",
       "62409                NaN\n",
       "62562                NaN\n",
       "62563                NaN\n",
       "62606                NaN\n",
       "Name: icu_los, Length: 62722, dtype: object"
      ]
     },
     "execution_count": 32,
     "metadata": {},
     "output_type": "execute_result"
    }
   ],
   "source": [
    "# LOS should be a float - print series to evaluate\n",
    "patient_admits[\"icu_los\"].sort_values()"
   ]
  },
  {
   "cell_type": "markdown",
   "metadata": {},
   "source": [
    "Some of the LOS calculations were stored in datetime format as opposed to floats. Correction for these below:"
   ]
  },
  {
   "cell_type": "code",
   "execution_count": 33,
   "metadata": {},
   "outputs": [
    {
     "name": "stdout",
     "output_type": "stream",
     "text": [
      "657      25 days 10:01:00\n",
      "6755      9 days 09:14:00\n",
      "8367      4 days 01:37:00\n",
      "11333     7 days 09:40:00\n",
      "13141     0 days 21:30:00\n",
      "13194    18 days 16:46:00\n",
      "13333     3 days 17:53:00\n",
      "19071     5 days 12:54:00\n",
      "25871     5 days 12:54:00\n",
      "26999     0 days 16:05:00\n",
      "Name: icu_los, dtype: object\n"
     ]
    }
   ],
   "source": [
    "print(patient_admits[patient_admits[\"icu_los\"].str.contains(\"days\") == True][\"icu_los\"])\n",
    "index_list = patient_admits[patient_admits[\"icu_los\"].str.contains(\"days\") == True][\"icu_los\"].index.to_list()"
   ]
  },
  {
   "cell_type": "code",
   "execution_count": 34,
   "metadata": {},
   "outputs": [],
   "source": [
    "# For each string that is formatted as a date, split into two components:\n",
    "# first is the number of days at beginning of string, and second is a list of each component of time (hours, minutes, seconds)\n",
    "# Then sum up all 4 components converted into a portion of days, and update icu_los values\n",
    "for i in index_list:\n",
    "    date = patient_admits.loc[i,\"icu_los\"]\n",
    "    length = len(date)\n",
    "    days = 0\n",
    "    if length == 16:\n",
    "        days = float(date[0:2])\n",
    "        time_components = date[8:].split(\":\")\n",
    "    else:\n",
    "        days = float(date[0:1])\n",
    "        time_components = date[7:].split(\":\")\n",
    "    days = ((days) + \n",
    "            (float(time_components[0])/24) +\n",
    "            (float(time_components[1])/60/24) +\n",
    "            (float(time_components[2])/60/60/24))\n",
    "    patient_admits.loc[i,\"icu_los\"] = days"
   ]
  },
  {
   "cell_type": "code",
   "execution_count": 35,
   "metadata": {},
   "outputs": [],
   "source": [
    "# Convert whole icu_los column to float\n",
    "patient_admits[\"icu_los\"] = patient_admits[\"icu_los\"].astype(float)"
   ]
  },
  {
   "cell_type": "markdown",
   "metadata": {},
   "source": [
    "##### Convert hospital admit and discharge times to timsetamp"
   ]
  },
  {
   "cell_type": "code",
   "execution_count": 36,
   "metadata": {},
   "outputs": [],
   "source": [
    "admittime = []\n",
    "for i in patient_admits.index:\n",
    "    admittime.append(pd.Timestamp(patient_admits[\"admittime\"][i]))"
   ]
  },
  {
   "cell_type": "code",
   "execution_count": 37,
   "metadata": {},
   "outputs": [],
   "source": [
    "patient_admits[\"admittime\"] = admittime"
   ]
  },
  {
   "cell_type": "code",
   "execution_count": 38,
   "metadata": {},
   "outputs": [],
   "source": [
    "dischtime = []\n",
    "for i in patient_admits.index:\n",
    "    dischtime.append(pd.Timestamp(patient_admits[\"dischtime\"][i]))"
   ]
  },
  {
   "cell_type": "code",
   "execution_count": 39,
   "metadata": {},
   "outputs": [],
   "source": [
    "patient_admits[\"dischtime\"] = dischtime"
   ]
  },
  {
   "cell_type": "markdown",
   "metadata": {},
   "source": [
    "## D) Finalize CDI admissions to exclude from analysis"
   ]
  },
  {
   "cell_type": "markdown",
   "metadata": {},
   "source": [
    "#### 1) Exclude certain CDI patients \n",
    "\n",
    "\n",
    "##### a) CDI patients without confirmed lab diagnosis:\n",
    "\n",
    "As noted above, without a confirmed lab test, timing of diagnosis is difficult to identify and as such, these patients are excluded.\n",
    "\n",
    "There are also 130 patients with with a confirmed lab test but no CDI ICD9 code listed (13% of positive lab tests). \n",
    "\n",
    "There are two main categories of lab testing clinically utilized to diagnose CDI. The first are immunoassays, which can be broken down into to Glutamate Dehydrogenase and Toxin A/B detection. The second are nucleic acid amplification tests (NAATs). \n",
    "\n",
    "Immunoassays tend to be more specific but less sensitive than NAATs, and given that Clostridium Difficile can colonize patients without causing infection, NAATs may/often lead to false positives. In the data here, we can not tell which test is used on which patients. However, all data is for patients between 2001 and 2011. Given that Cepheid's GeneXpert (the first FDA approved NAAT) wasn't approved until 2009, the overwhelming majority of tests here were likely done via immunoassay. Reviews of immunoassay testing (as in Menendez 2017 - see Literature Review/Diagnostics folder) suggest that when done in an algorithm, immunoassay testing achieves about 90% PPV. As such, I keep these patients included.\n",
    "\n",
    "##### b) Patients with CDI noted as admission diagnosis\n",
    "\n",
    "##### c) Patients with CDI diagnosed before being in ICU for 48 hours\n",
    "\n",
    "Plenty of patients are admitted to the ICU with either already confirmed or strongly suspected C Diff. Not only is risk prediction in these patients not highly valuable, but prediction of CDI in these patients is likely easier and may distort model performance."
   ]
  },
  {
   "cell_type": "code",
   "execution_count": 40,
   "metadata": {},
   "outputs": [],
   "source": [
    "# Calculate difference between CDI diagnosis and ICU admit time\n",
    "cdi_vs_icu_intime = []\n",
    "for i in patient_admits.index:\n",
    "    cdi_charttime = patient_admits.loc[i,\"cdi_dx_charttime\"]\n",
    "    icu_intime = patient_admits.loc[i,\"icu_intime\"]\n",
    "    try:\n",
    "        cdi_vs_icu_intime.append(date_diff(cdi_charttime, icu_intime))\n",
    "    except:\n",
    "        cdi_vs_icu_intime.append(None)"
   ]
  },
  {
   "cell_type": "code",
   "execution_count": 41,
   "metadata": {},
   "outputs": [],
   "source": [
    "# Create column for relative CDI dx vs ICU admission\n",
    "patient_admits[\"cdi_vs_icu_intime\"] = cdi_vs_icu_intime"
   ]
  },
  {
   "cell_type": "code",
   "execution_count": 42,
   "metadata": {
    "scrolled": true
   },
   "outputs": [
    {
     "data": {
      "text/plain": [
       "1294"
      ]
     },
     "execution_count": 42,
     "metadata": {},
     "output_type": "execute_result"
    }
   ],
   "source": [
    "patient_admits[\"cdi_vs_icu_intime\"].notnull().sum()"
   ]
  },
  {
   "cell_type": "markdown",
   "metadata": {},
   "source": [
    "there are 1,294 icu visits in which CDI was diagnosed and has a charttime sometime during the overall hospital visit"
   ]
  },
  {
   "cell_type": "code",
   "execution_count": 43,
   "metadata": {},
   "outputs": [
    {
     "data": {
      "text/plain": [
       "(670, 44)"
      ]
     },
     "execution_count": 43,
     "metadata": {},
     "output_type": "execute_result"
    }
   ],
   "source": [
    "patient_admits[(patient_admits[\"cdi_vs_icu_intime\"].notnull())\n",
    "              & (patient_admits[\"cdi_vs_icu_intime\"] > 2)].shape"
   ]
  },
  {
   "cell_type": "markdown",
   "metadata": {},
   "source": [
    "670 of these cases were diagnosed at least 2 days after the start of an ICU visit"
   ]
  },
  {
   "cell_type": "code",
   "execution_count": 44,
   "metadata": {
    "scrolled": true
   },
   "outputs": [
    {
     "data": {
      "text/html": [
       "<div>\n",
       "<style scoped>\n",
       "    .dataframe tbody tr th:only-of-type {\n",
       "        vertical-align: middle;\n",
       "    }\n",
       "\n",
       "    .dataframe tbody tr th {\n",
       "        vertical-align: top;\n",
       "    }\n",
       "\n",
       "    .dataframe thead th {\n",
       "        text-align: right;\n",
       "    }\n",
       "</style>\n",
       "<table border=\"1\" class=\"dataframe\">\n",
       "  <thead>\n",
       "    <tr style=\"text-align: right;\">\n",
       "      <th></th>\n",
       "      <th>subject_id</th>\n",
       "      <th>gender</th>\n",
       "      <th>dob</th>\n",
       "      <th>dod</th>\n",
       "      <th>dod_hosp</th>\n",
       "      <th>dod_ssn</th>\n",
       "      <th>expire_flag</th>\n",
       "      <th>hadm_id</th>\n",
       "      <th>admittime</th>\n",
       "      <th>dischtime</th>\n",
       "      <th>...</th>\n",
       "      <th>age_below_1</th>\n",
       "      <th>cdi_icd9</th>\n",
       "      <th>cdi_dx_charttime</th>\n",
       "      <th>cdi_lab_dx</th>\n",
       "      <th>icu_intime</th>\n",
       "      <th>icu_outtime</th>\n",
       "      <th>icu_los</th>\n",
       "      <th>icu_stay_seq</th>\n",
       "      <th>icustay_id</th>\n",
       "      <th>cdi_vs_icu_intime</th>\n",
       "    </tr>\n",
       "  </thead>\n",
       "  <tbody>\n",
       "  </tbody>\n",
       "</table>\n",
       "<p>0 rows × 44 columns</p>\n",
       "</div>"
      ],
      "text/plain": [
       "Empty DataFrame\n",
       "Columns: [subject_id, gender, dob, dod, dod_hosp, dod_ssn, expire_flag, hadm_id, admittime, dischtime, deathtime, admission_type, admission_location, discharge_location, insurance, language, religion, marital_status, ethnicity, edregtime, edouttime, diagnosis, has_chartevents_data, hosp_los, admit_age, hospstay_seq, first_ethnicity, second_ethnicity, admit_icu_los, admit_icu_stays, cdi_at_admit, no_icu_stay, diarr_at_admit, newborn_admit, age_below_1, cdi_icd9, cdi_dx_charttime, cdi_lab_dx, icu_intime, icu_outtime, icu_los, icu_stay_seq, icustay_id, cdi_vs_icu_intime]\n",
       "Index: []\n",
       "\n",
       "[0 rows x 44 columns]"
      ]
     },
     "execution_count": 44,
     "metadata": {},
     "output_type": "execute_result"
    }
   ],
   "source": [
    "# Confirm no CDI cases to be excluded were missed\n",
    "patient_admits[(patient_admits[\"cdi_vs_icu_intime\"] >= 2) &\n",
    "              ((patient_admits[\"diarr_at_admit\"] == 1) | (patient_admits[\"cdi_at_admit\"] == 1))]"
   ]
  },
  {
   "cell_type": "markdown",
   "metadata": {},
   "source": [
    "##### Plot distribution of CDI Dx timing for patients to be included"
   ]
  },
  {
   "cell_type": "code",
   "execution_count": 45,
   "metadata": {},
   "outputs": [],
   "source": [
    "# Create function to plot histogram and associated statistics from a series\n",
    "# Includes mean, standard deviation, middle 50% bounds, and scipy statistical tests for skewness and kurtosis\n",
    "def plot_one_hist(series = None, color = None, xlabel = \"\", ylabel = \"\", title = \"\"):\n",
    "    fig, ax = plt.subplots(figsize = (15, 10))\n",
    "    sns.distplot(series, kde = False, color = color)\n",
    "    stats = series.describe()\n",
    "    count = int(stats[\"count\"])\n",
    "    mean = stats[\"mean\"]\n",
    "    std = stats[\"std\"]\n",
    "    mid = stats[\"50%\"]\n",
    "    lower = stats[\"25%\"]\n",
    "    upper = stats[\"75%\"]\n",
    "    plt.title(title + \"\\n\"  + \"n = \" + str(count), fontsize = 20)\n",
    "    plt.xticks(fontsize = 15)\n",
    "    plt.yticks(fontsize = 15)\n",
    "    ax.set_ylabel(ylabel, fontsize = 20)\n",
    "    ax.set_xlabel(xlabel, fontsize = 20)  \n",
    "    plt.axvline(x = mean, label = \"mean \" + str(round(mean, 3)), linewidth = 3, color = \"green\")\n",
    "    plt.axvline(x = mean + std, label = \"+/- 1 std = \" + str(round(std, 3)), linewidth = 3, color = \"red\")\n",
    "    plt.axvline(x = mean - std, linewidth = 3, color = \"red\")\n",
    "    plt.axvline(x = lower, linewidth = 3, label = \"middle 50%: \\n\" + str(round(lower,3)) + \" / \" + str(round(upper,3)), color = \"orange\")\n",
    "    plt.axvline(x = upper, linewidth = 3, color = \"orange\")\n",
    "    plt.legend(fontsize = 15)\n",
    "    print(\"Kurtosis / test stat / p-value \" + \n",
    "          str(round(kurtosis(series), 3)) + \" / \" + \n",
    "          str(round(kurtosistest(series)[0], 3)) + \" / \" + \n",
    "          str(kurtosistest(series)[1]))\n",
    "    print(\"Skew statistic / p-value: \" + \n",
    "          str(round(skew(series), 3)) + \" / \" + \n",
    "          str(skewtest(series)[1]))   "
   ]
  },
  {
   "cell_type": "code",
   "execution_count": 46,
   "metadata": {},
   "outputs": [
    {
     "name": "stdout",
     "output_type": "stream",
     "text": [
      "(0.7709900736808777, 1.5744827874800842e-29)\n"
     ]
    }
   ],
   "source": [
    "print(stats.shapiro(patient_admits[(patient_admits[\"cdi_vs_icu_intime\"].notnull()) \n",
    "                             & (patient_admits[\"cdi_vs_icu_intime\"] >= 2)][\"cdi_vs_icu_intime\"]))"
   ]
  },
  {
   "cell_type": "code",
   "execution_count": 47,
   "metadata": {},
   "outputs": [
    {
     "name": "stdout",
     "output_type": "stream",
     "text": [
      "Kurtosis / test stat / p-value 8.565 / 10.854 / 1.9177835818835332e-27\n",
      "Skew statistic / p-value: 2.395 / 3.1249958579585468e-56\n"
     ]
    },
    {
     "data": {
      "image/png": "[encoded data removed]",
      "text/plain": [
       "<Figure size 1080x720 with 1 Axes>"
      ]
     },
     "metadata": {
      "needs_background": "light"
     },
     "output_type": "display_data"
    }
   ],
   "source": [
    "plot_one_hist(series = patient_admits[(patient_admits[\"cdi_vs_icu_intime\"].notnull()) & \n",
    "                         (patient_admits[\"cdi_vs_icu_intime\"] >= 2)][\"cdi_vs_icu_intime\"],\n",
    "         title = \"CDI Diagnosis Relative to ICU Admit Time\",\n",
    "         xlabel = \"Days\",\n",
    "         ylabel = \"Number of Patient Admissions\")"
   ]
  },
  {
   "cell_type": "markdown",
   "metadata": {},
   "source": [
    "670 ICU visits were associated with CDI diagnosis at least 2 days after start of the ICU admission.\n",
    "\n",
    "among these patients, average diagnosis came 11 days after admission with 50% of diagnoses between 4.6 and 14 days.\n",
    "\n",
    "This distribution is strongly right-tailed with normality null hypotheses rejected by both kurtosis and skew tests; p-values 2x10^-26 and 3x10^-56 respectively"
   ]
  },
  {
   "cell_type": "markdown",
   "metadata": {},
   "source": [
    "## E) Finalize Overall Admissions to Exclude From Analysis\n",
    "\n",
    "Features already created above and in first notebook not covered by CDI case exclusions:\n",
    "\n",
    "    1) no ICU stay or hospital discharge < 2 days after ICU admit start (risk assessment will take place at conclusion of 2nd day after ICU admission start)\n",
    "    2) newborns and babies under 1 (highly likely to be colonized with clostridium difficile without infection and/or have diarrhea due to other causes"
   ]
  },
  {
   "cell_type": "code",
   "execution_count": 48,
   "metadata": {},
   "outputs": [
    {
     "name": "stdout",
     "output_type": "stream",
     "text": [
      "datetime64[ns]\n",
      "datetime64[ns]\n"
     ]
    }
   ],
   "source": [
    "print(patient_admits[\"icu_intime\"].dtypes)\n",
    "print(patient_admits[\"dischtime\"].dtypes)"
   ]
  },
  {
   "cell_type": "code",
   "execution_count": 49,
   "metadata": {},
   "outputs": [],
   "source": [
    "# Calculate time 2 days after ICU start as cutoff time and then determine if patient is still in hospital\n",
    "# by calculating difference between cutoff and hospital discharge\n",
    "cutoff = []\n",
    "discharge_vs_cutoff = []\n",
    "for i in patient_admits.index:\n",
    "    cutoff_time = calc_relative_date(patient_admits.loc[i,\"icu_intime\"], 2)\n",
    "    dischtime = patient_admits.loc[i,\"dischtime\"]\n",
    "    cutoff.append(cutoff_time)\n",
    "    if(patient_admits.loc[i,\"no_icu_stay\"] == 0):\n",
    "        diff = date_diff(patient_admits.loc[i,\"dischtime\"], cutoff_time)\n",
    "        discharge_vs_cutoff.append(diff)\n",
    "    else:\n",
    "        discharge_vs_cutoff.append(None)"
   ]
  },
  {
   "cell_type": "code",
   "execution_count": 50,
   "metadata": {},
   "outputs": [],
   "source": [
    "patient_admits[\"cutoff_time\"] = cutoff\n",
    "patient_admits[\"discharge_vs_cutoff\"] = discharge_vs_cutoff"
   ]
  },
  {
   "cell_type": "code",
   "execution_count": 51,
   "metadata": {},
   "outputs": [],
   "source": [
    "# Create column for which non-CDI patients should be excluded\n",
    "patient_admits[\"admissions_exclude\"] = ((patient_admits[\"discharge_vs_cutoff\"] < 0) |\n",
    "                                        (patient_admits[\"age_below_1\"] == 1) |\n",
    "                                        (patient_admits[\"newborn_admit\"] == 1) |\n",
    "                                        (patient_admits[\"no_icu_stay\"] == 1) |\n",
    "                                       (patient_admits[\"discharge_vs_cutoff\"] < 0))"
   ]
  },
  {
   "cell_type": "code",
   "execution_count": 52,
   "metadata": {},
   "outputs": [],
   "source": [
    "# Combined both\n",
    "patient_admits[\"overall_exclude\"] = ((patient_admits[\"age_below_1\"] == 1) |\n",
    "                                     (patient_admits[\"newborn_admit\"] == 1) |\n",
    "                                     (patient_admits[\"no_icu_stay\"] == 1) |\n",
    "                                     (patient_admits[\"cdi_vs_icu_intime\"] < 2) |\n",
    "                                     ((patient_admits[\"cdi_icd9\"] == 1) & \n",
    "                                      (patient_admits[\"cdi_lab_dx\"] == 0)) |\n",
    "                                     (patient_admits[\"discharge_vs_cutoff\"] < 0))"
   ]
  },
  {
   "cell_type": "code",
   "execution_count": 53,
   "metadata": {
    "scrolled": true
   },
   "outputs": [
    {
     "data": {
      "text/plain": [
       "(47000, 48)"
      ]
     },
     "execution_count": 53,
     "metadata": {},
     "output_type": "execute_result"
    }
   ],
   "source": [
    "# get shape of final dataframe\n",
    "patient_admits[patient_admits[\"overall_exclude\"] == False].shape"
   ]
  },
  {
   "cell_type": "code",
   "execution_count": 54,
   "metadata": {},
   "outputs": [
    {
     "data": {
      "text/plain": [
       "0    46331\n",
       "1      669\n",
       "Name: cdi_lab_dx, dtype: int64"
      ]
     },
     "execution_count": 54,
     "metadata": {},
     "output_type": "execute_result"
    }
   ],
   "source": [
    "# Get counts of CDI cases\n",
    "patient_admits[patient_admits[\"overall_exclude\"] == False][\"cdi_lab_dx\"].value_counts()"
   ]
  },
  {
   "cell_type": "code",
   "execution_count": 55,
   "metadata": {
    "scrolled": true
   },
   "outputs": [
    {
     "data": {
      "text/plain": [
       "0.014439576093760117"
      ]
     },
     "execution_count": 55,
     "metadata": {},
     "output_type": "execute_result"
    }
   ],
   "source": [
    "#Calculate CDI cases as % of included ICU stays\n",
    "669 / 46331"
   ]
  },
  {
   "cell_type": "markdown",
   "metadata": {},
   "source": [
    "## F) Train Test Split\n",
    "\n",
    "Done to ensure that all data for a given patient ends up on the same side of the split,\n",
    "and maintains reasonably similar split of CDI cases"
   ]
  },
  {
   "cell_type": "code",
   "execution_count": 56,
   "metadata": {},
   "outputs": [
    {
     "data": {
      "text/plain": [
       "Index(['subject_id', 'gender', 'dob', 'dod', 'dod_hosp', 'dod_ssn',\n",
       "       'expire_flag', 'hadm_id', 'admittime', 'dischtime', 'deathtime',\n",
       "       'admission_type', 'admission_location', 'discharge_location',\n",
       "       'insurance', 'language', 'religion', 'marital_status', 'ethnicity',\n",
       "       'edregtime', 'edouttime', 'diagnosis', 'has_chartevents_data',\n",
       "       'hosp_los', 'admit_age', 'hospstay_seq', 'first_ethnicity',\n",
       "       'second_ethnicity', 'admit_icu_los', 'admit_icu_stays', 'cdi_at_admit',\n",
       "       'no_icu_stay', 'diarr_at_admit', 'newborn_admit', 'age_below_1',\n",
       "       'cdi_icd9', 'cdi_dx_charttime', 'cdi_lab_dx', 'icu_intime',\n",
       "       'icu_outtime', 'icu_los', 'icu_stay_seq', 'icustay_id',\n",
       "       'cdi_vs_icu_intime', 'cutoff_time', 'discharge_vs_cutoff',\n",
       "       'admissions_exclude', 'overall_exclude'],\n",
       "      dtype='object')"
      ]
     },
     "execution_count": 56,
     "metadata": {},
     "output_type": "execute_result"
    }
   ],
   "source": [
    "patient_admits.columns"
   ]
  },
  {
   "cell_type": "code",
   "execution_count": 57,
   "metadata": {
    "scrolled": true
   },
   "outputs": [],
   "source": [
    "# Generate unique list of patients\n",
    "x = pd.DataFrame()\n",
    "x[\"unique_patients\"] = patient_admits[patient_admits[\"overall_exclude\"] == False][\"subject_id\"].unique()\n",
    "\n",
    "# Count number of cdi lab diagnoses\n",
    "cdi_patients = patient_admits[patient_admits[\"overall_exclude\"] == False].groupby(by=\"subject_id\")[\"cdi_lab_dx\"].sum()\n",
    "\n",
    "# Merge two series together\n",
    "xy = pd.merge(x, cdi_patients, how = \"outer\", left_on = \"unique_patients\", right_index = True)\n",
    "\n",
    "# Re-map cdi_lab column for each patient to be binary on having at least 1 CDI Dx over any admission\n",
    "xy[\"cdi_lab_dx\"] = xy[\"cdi_lab_dx\"].map(lambda x: 1 if x >=1 else 0)\n",
    "\n",
    "\n",
    "# train test split and stratify on CDI cases\n",
    "X_train, X_test, y_train, y_test = train_test_split(xy[\"unique_patients\"], \n",
    "                                                    xy[\"cdi_lab_dx\"], \n",
    "                                                    random_state = 42,\n",
    "                                                    stratify = xy[\"cdi_lab_dx\"])"
   ]
  },
  {
   "cell_type": "code",
   "execution_count": 58,
   "metadata": {},
   "outputs": [],
   "source": [
    "#create train and test dataframes based on above splits\n",
    "icu_admits_train = patient_admits[patient_admits[\"subject_id\"].isin(X_train.to_list())]\n",
    "icu_admits_test = patient_admits[patient_admits[\"subject_id\"].isin(X_test.to_list())]"
   ]
  },
  {
   "cell_type": "code",
   "execution_count": 59,
   "metadata": {
    "scrolled": true
   },
   "outputs": [
    {
     "name": "stdout",
     "output_type": "stream",
     "text": [
      "0    34853\n",
      "1      501\n",
      "Name: cdi_lab_dx, dtype: int64\n",
      "0    11478\n",
      "1      168\n",
      "Name: cdi_lab_dx, dtype: int64\n"
     ]
    }
   ],
   "source": [
    "# Confirm CDI cases stratified equally\n",
    "print(icu_admits_train[icu_admits_train[\"overall_exclude\"]==False][\"cdi_lab_dx\"].value_counts())\n",
    "print(icu_admits_test[icu_admits_test[\"overall_exclude\"]==False][\"cdi_lab_dx\"].value_counts())"
   ]
  },
  {
   "cell_type": "code",
   "execution_count": 2,
   "metadata": {},
   "outputs": [
    {
     "data": {
      "text/plain": [
       "0.01417095661028455"
      ]
     },
     "execution_count": 2,
     "metadata": {},
     "output_type": "execute_result"
    }
   ],
   "source": [
    "# Check CDI rate\n",
    "501 / (34853 + 501)"
   ]
  },
  {
   "cell_type": "code",
   "execution_count": 61,
   "metadata": {},
   "outputs": [
    {
     "name": "stderr",
     "output_type": "stream",
     "text": [
      "C:\\Users\\fuzzyman27\\anaconda3\\envs\\dsi\\lib\\site-packages\\ipykernel_launcher.py:4: SettingWithCopyWarning: \n",
      "A value is trying to be set on a copy of a slice from a DataFrame.\n",
      "Try using .loc[row_indexer,col_indexer] = value instead\n",
      "\n",
      "See the caveats in the documentation: http://pandas.pydata.org/pandas-docs/stable/user_guide/indexing.html#returning-a-view-versus-a-copy\n",
      "  after removing the cwd from sys.path.\n",
      "C:\\Users\\fuzzyman27\\anaconda3\\envs\\dsi\\lib\\site-packages\\ipykernel_launcher.py:7: SettingWithCopyWarning: \n",
      "A value is trying to be set on a copy of a slice from a DataFrame.\n",
      "Try using .loc[row_indexer,col_indexer] = value instead\n",
      "\n",
      "See the caveats in the documentation: http://pandas.pydata.org/pandas-docs/stable/user_guide/indexing.html#returning-a-view-versus-a-copy\n",
      "  import sys\n"
     ]
    }
   ],
   "source": [
    "# Map cdi lab dx to new column for only included lab diagnoses\n",
    "\n",
    "icu_admits_train[\"cdi_dx_include\"] = ((icu_admits_train[\"overall_exclude\"] == False) & \n",
    "                                      (icu_admits_train[\"cdi_lab_dx\"] == 1)).map(lambda x: 1 if x == True else 0)\n",
    "\n",
    "icu_admits_test[\"cdi_dx_include\"] = ((icu_admits_test[\"overall_exclude\"] == False) & \n",
    "                                      (icu_admits_test[\"cdi_lab_dx\"] == 1)).map(lambda x: 1 if x == True else 0)"
   ]
  },
  {
   "cell_type": "markdown",
   "metadata": {},
   "source": [
    "## Export Data\n",
    "##### Note that 12,549 patients had admissions that were labeled exclusively with \"overall exclude\" = True above, and were therefore filtered out here. Given that features will be only based on an individual patient's data, this will not impact further analysis."
   ]
  },
  {
   "cell_type": "code",
   "execution_count": null,
   "metadata": {},
   "outputs": [],
   "source": [
    "# Export training and test dataframes to csv\n",
    "icu_admits_train.to_csv(\"../Data/2 - ICU Admits Train.csv\")\n",
    "icu_admits_test.to_csv(\"../Data/2 - ICU Admits Test.csv\")"
   ]
  }
 ],
 "metadata": {
  "kernelspec": {
   "display_name": "Python [conda env:dsi] *",
   "language": "python",
   "name": "conda-env-dsi-py"
  },
  "language_info": {
   "codemirror_mode": {
    "name": "ipython",
    "version": 3
   },
   "file_extension": ".py",
   "mimetype": "text/x-python",
   "name": "python",
   "nbconvert_exporter": "python",
   "pygments_lexer": "ipython3",
   "version": "3.7.4"
  }
 },
 "nbformat": 4,
 "nbformat_minor": 2
}

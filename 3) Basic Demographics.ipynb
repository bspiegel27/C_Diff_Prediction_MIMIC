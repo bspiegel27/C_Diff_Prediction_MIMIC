{
 "cells": [
  {
   "cell_type": "markdown",
   "metadata": {},
   "source": [
    "## Overview\n",
    "#### This notebook is the first of many that will conduct exploratory data analysis on different types of features. Here, I evaluate a variety of basic demographic factors. Age is the factor most commonly utilized in other CDI prediction models\n",
    "\n",
    "## Notebook Sections\n",
    "#### a) Import Libraries, Data, and Setup BigQuery Authorization \n",
    "#### b) Define Functions for EDA\n",
    "    Similar functions will be utilized across all notebooks. Key EDA functions include:\n",
    "    1) Histograms for evaluating continuous variables,\n",
    "    2) Categorical stats and logistic regression functions for evaluating and validating features\n",
    "    3) Cubic spline creation function for transforming numeric variables\n",
    "#### c) Feature generation and selection\n",
    "##### Demographic features explored:\n",
    "    age\n",
    "    gender\n",
    "    insurance\n",
    "    language\n",
    "    ethnicity\n",
    "    marital status \n",
    "##### Continuous variables inclusion criteria (age) :\n",
    "    1) Statistically significant in univariate logistic regression at p-value <= 0.05\n",
    "    2) Transformed via cubic spline interpolation\n",
    "##### Nominal and Binary variables inclusion criteria (all others):\n",
    "    1) Statistically significant in univariate logistic regression at p-value <= 0.05, including after accounting for age and other significant demographic predictors    \n",
    "    2) Must also have 500+ total cases within each option for a variable. If an option does not meet this cutoff, it is combined with another feature based on similarity in description or CDI rate in training data\n",
    "\n",
    "## Output \n",
    "    1) Updated ICU admits train/test dataframes (ages below 20 are recategorized to be excluded from further analysis)\n",
    "    2) Demographics train/test dataframes to contain all significant demographics features after EDA\n",
    "## Results Summary     \n",
    "\n",
    "    Age: After transforming via cubic splines, all age predictors remain statistically significant\n",
    "    \n",
    "    Gender: Not statistically significant\n",
    "    \n",
    "    Insurance: Self Pay, Private or Government insurance found to have significantly lower rates of CDI compared to Medicare and Medicaid insurance, even after accounting for age\n",
    "    \n",
    "    Ethnicity: grouped into broader categories for analysis, but none found to be statistically significant\n",
    "    \n",
    "    Language: English speakers specifically have significantly lower rates of observed CDI compared to others\n",
    "    \n",
    "    Marital Status: Those who are divorced in particular have significantly lower rates of observed CDI compared to others"
   ]
  },
  {
   "cell_type": "markdown",
   "metadata": {},
   "source": [
    "## A) Import libraries and data, and set up Big Query Authorization"
   ]
  },
  {
   "cell_type": "code",
   "execution_count": 1,
   "metadata": {},
   "outputs": [],
   "source": [
    "from google.cloud import bigquery\n",
    "from google_auth_oauthlib import flow\n",
    "\n",
    "client = bigquery.Client()\n",
    "\n",
    "project = 'mimiciii-249117'"
   ]
  },
  {
   "cell_type": "code",
   "execution_count": 3,
   "metadata": {},
   "outputs": [],
   "source": [
    "# Import libraries for analysis within notebook\n",
    "import datetime\n",
    "import pandas as pd\n",
    "import numpy as np\n",
    "import matplotlib.pyplot as plt\n",
    "import seaborn as sns\n",
    "from patsy import dmatrices, dmatrix\n",
    "from scipy import stats\n",
    "from scipy.stats import kurtosis, kurtosistest, skew, skewtest\n",
    "import statsmodels.discrete.discrete_model as sm\n",
    "from sklearn.linear_model import LogisticRegression\n",
    "from sklearn.metrics import confusion_matrix, roc_auc_score"
   ]
  },
  {
   "cell_type": "code",
   "execution_count": 3,
   "metadata": {},
   "outputs": [],
   "source": [
    "launch_browser = True"
   ]
  },
  {
   "cell_type": "code",
   "execution_count": 4,
   "metadata": {
    "scrolled": true
   },
   "outputs": [
    {
     "name": "stdout",
     "output_type": "stream",
     "text": [
      "Please visit this URL to authorize this application: https://accounts.google.com/o/oauth2/auth?response_type=code&client_id=579414793473-ak30u31klvdecqfv6kg8542ofeeegm18.apps.googleusercontent.com&redirect_uri=http%3A%2F%2Flocalhost%3A8080%2F&scope=https%3A%2F%2Fwww.googleapis.com%2Fauth%2Fbigquery&state=9YxJBjivbyrsnlu7KJAeQy7ZKBcBKQ&access_type=offline&code_challenge=7f8thvvkNMKeJDgMo67dQiioi94r6TphwMtuzbwOhGU&code_challenge_method=S256\n"
     ]
    }
   ],
   "source": [
    "appflow = flow.InstalledAppFlow.from_client_secrets_file(\n",
    "    'C:/Users/fuzzyman27/BigQuery/client_secrets.json',\n",
    "    scopes=['https://www.googleapis.com/auth/bigquery'])\n",
    "\n",
    "if launch_browser:\n",
    "    appflow.run_local_server()\n",
    "else:\n",
    "    appflow.run_console()\n",
    "\n",
    "credentials = appflow.credentials"
   ]
  },
  {
   "cell_type": "code",
   "execution_count": 5,
   "metadata": {},
   "outputs": [],
   "source": [
    "client = bigquery.Client(project=project, credentials=credentials)"
   ]
  },
  {
   "cell_type": "code",
   "execution_count": 6,
   "metadata": {},
   "outputs": [],
   "source": [
    "# Define small function to run SQL queries and return a dataframe\n",
    "def run_query(query):\n",
    "    return client.query(query).to_dataframe()"
   ]
  },
  {
   "cell_type": "markdown",
   "metadata": {},
   "source": [
    "#### Import ICU Train and Test DataFrames from 2nd Notebook"
   ]
  },
  {
   "cell_type": "code",
   "execution_count": 7,
   "metadata": {},
   "outputs": [],
   "source": [
    "icu_admits_train = pd.read_csv(\"../Data/2 - ICU Admits Train.csv\").drop(columns = \"Unnamed: 0\")\n",
    "icu_admits_test = pd.read_csv(\"../Data/2 - ICU Admits Test.csv\").drop(columns = \"Unnamed: 0\")"
   ]
  },
  {
   "cell_type": "markdown",
   "metadata": {},
   "source": [
    "## B) Define functions"
   ]
  },
  {
   "cell_type": "code",
   "execution_count": 8,
   "metadata": {},
   "outputs": [],
   "source": [
    "# Define function that returns difference in days of two dates\n",
    "def date_diff(first_date, second_date):\n",
    "    diff = (first_date - np.timedelta64(0,'s')) - (second_date - np.timedelta64(0,'s'))\n",
    "    return ((diff.components.days) + (diff.components.hours/24) + (diff.components.minutes/(60*24)))"
   ]
  },
  {
   "cell_type": "markdown",
   "metadata": {},
   "source": [
    "#### Create functions for plotting"
   ]
  },
  {
   "cell_type": "code",
   "execution_count": 9,
   "metadata": {},
   "outputs": [],
   "source": [
    "# Create function to plot histogram and associated statistics from a series\n",
    "# Includes mean, standard deviation, middle 50% bounds, and scipy statistical tests for skewness and kurtosis\n",
    "def plot_one_hist(series = None, color = None, xlabel = \"\", ylabel = \"\", title = \"\"):\n",
    "    fig, ax = plt.subplots(figsize = (15, 10))\n",
    "    sns.distplot(series, kde = False, color = color)\n",
    "    stats = series.describe()\n",
    "    count = int(stats[\"count\"])\n",
    "    mean = stats[\"mean\"]\n",
    "    std = stats[\"std\"]\n",
    "    mid = stats[\"50%\"]\n",
    "    lower = stats[\"25%\"]\n",
    "    upper = stats[\"75%\"]\n",
    "    plt.title(title + \"\\n\"  + \"n = \" + str(count), fontsize = 20)\n",
    "    plt.xticks(fontsize = 15)\n",
    "    plt.yticks(fontsize = 15)\n",
    "    ax.set_ylabel(ylabel, fontsize = 20)\n",
    "    ax.set_xlabel(xlabel, fontsize = 20)  \n",
    "    plt.axvline(x = mean, label = \"mean \" + str(round(mean, 3)), linewidth = 3, color = \"green\")\n",
    "    plt.axvline(x = mean + std, label = \"+/- 1 std = \" + str(round(std, 3)), linewidth = 3, color = \"red\")\n",
    "    plt.axvline(x = mean - std, linewidth = 3, color = \"red\")\n",
    "    plt.axvline(x = lower, linewidth = 3, label = \"middle 50%: \\n\" + str(round(lower,3)) + \" / \" + str(round(upper,3)), color = \"orange\")\n",
    "    plt.axvline(x = upper, linewidth = 3, color = \"orange\")\n",
    "    plt.legend(fontsize = 15)\n",
    "    print(\"Kurtosis / test stat / p-value \" + \n",
    "          str(round(kurtosis(series), 3)) + \" / \" + \n",
    "          str(round(kurtosistest(series)[0], 3)) + \" / \" + \n",
    "          str(kurtosistest(series)[1]))\n",
    "    print(\"Skew statistic / p-value: \" + \n",
    "          str(round(skew(series), 3)) + \" / \" + \n",
    "          str(skewtest(series)[1]))   "
   ]
  },
  {
   "cell_type": "code",
   "execution_count": 10,
   "metadata": {},
   "outputs": [],
   "source": [
    "def plot_two_hist(series1, series2, xlabel = \"\", ylabel = \"\", title = \"\"):\n",
    "    fig, ax = plt.subplots(figsize = (15, 10))\n",
    "    \n",
    "    sns.distplot(series1, kde = False)\n",
    "    sns.distplot(series2, kde = False)\n",
    "    \n",
    "    stats1 = series1.describe()\n",
    "    stats2 = series2.describe()\n",
    "    \n",
    "    count1 = int(stats1[\"count\"])\n",
    "    count2 = int(stats2[\"count\"])\n",
    "    \n",
    "    plt.title(title, fontsize = 20)\n",
    "    plt.xticks(fontsize = 15)\n",
    "    plt.yticks(fontsize = 15)\n",
    "    ax.set_ylabel(ylabel, fontsize = 20)\n",
    "    ax.set_xlabel(xlabel, fontsize = 20)  \n",
    "    print(\"Two-sample Kolmogorov-Smirnov Test:\")\n",
    "    print(\"Statistic: \" + str(stats.ks_2samp(series1, series2)[0]))\n",
    "    print(\"P-Value: \" + str(stats.ks_2samp(series1, series2)[1]))\n",
    "    "
   ]
  },
  {
   "cell_type": "markdown",
   "metadata": {},
   "source": [
    "#### Create functions and univariate model implementation to evaluate feature significance"
   ]
  },
  {
   "cell_type": "code",
   "execution_count": 30,
   "metadata": {},
   "outputs": [],
   "source": [
    "# Runs univariate logistic regression in stats-models and outputs results\n",
    "def uni_log(var_list, df, categorical, return_model = False):\n",
    "    df2 = pd.DataFrame()\n",
    "    if(categorical == True):\n",
    "        dummies = pd.get_dummies(df[var_list], prefix = var_list)\n",
    "        columns = dummies.columns.to_list()[1:]\n",
    "        df2 = pd.merge(df, pd.get_dummies(df[var_list], prefix = var_list), left_index = True, right_index = True)\n",
    "    else:\n",
    "        df2 = df\n",
    "        columns = var_list    \n",
    "    y = df2[df2[\"overall_exclude\"] == False][\"cdi_dx_include\"]\n",
    "    x = df2[df2[\"overall_exclude\"] == False][columns]\n",
    "    logit = sm.Logit(y, x)\n",
    "    result = logit.fit()\n",
    "\n",
    "    print(\"Summary Stats:\")\n",
    "    print(result.summary())\n",
    "    print(\"Odds Ratio\")\n",
    "    print(np.exp(result.params))\n",
    "    if return_model == True:\n",
    "        return result"
   ]
  },
  {
   "cell_type": "code",
   "execution_count": 12,
   "metadata": {},
   "outputs": [],
   "source": [
    "# For categorical variables, outputs, counts and CDI rates, and calls univariate logistic regression function\n",
    "def categorical_stats(var_name, df, binary, skip_model = False):\n",
    "    print(\"Counts:\")\n",
    "    print(df[df[\"overall_exclude\"]==False][var_name].value_counts())\n",
    "    print()\n",
    "    print(\"Mean CDI Rate:\")\n",
    "    print(df[df[\"overall_exclude\"]==False].groupby(by=var_name)[\"cdi_dx_include\"].mean())\n",
    "    print()\n",
    "    if(skip_model == False):\n",
    "        if(binary == True):\n",
    "            uni_log(var_name, df, categorical = False)\n",
    "        else:\n",
    "            uni_log(var_name, df, categorical = True)        "
   ]
  },
  {
   "cell_type": "code",
   "execution_count": 13,
   "metadata": {},
   "outputs": [],
   "source": [
    "# Takes continuous variable and cutoff list and returns dataframe with that variable binned by the cutoffs\n",
    "def bin_variable(df, cutoff_list, var_name):\n",
    "    var_buckets = pd.DataFrame(data = pd.cut(df[var_name], cutoff_list)).rename(columns = {var_name : var_name + \"_bucket\"})\n",
    "    return pd.merge(df, var_buckets, left_index = True, right_index = True)"
   ]
  },
  {
   "cell_type": "markdown",
   "metadata": {},
   "source": [
    "##### Create function to enable cubic spline implementation from list of knot points"
   ]
  },
  {
   "cell_type": "code",
   "execution_count": 14,
   "metadata": {},
   "outputs": [],
   "source": [
    "def create_knot_df(df, var_name, knot_list):\n",
    "    knot_string = str(knot_list[0])\n",
    "    for i in range(1, len(knot_list)):\n",
    "        knot_string = str(knot_string) + \", \" + str(knot_list[i])\n",
    "    input_string = \"bs(x, knots=(\" + knot_string + \"), degree=3, include_intercept=False)\"\n",
    "    knot_df = dmatrix(input_string,\n",
    "                     {\"x\" : df[var_name]},\n",
    "                     return_type = 'dataframe').drop(columns = \"Intercept\")\n",
    "    knot_df.rename(columns = {x : (str(var_name) + \n",
    "                                   \"_knot \" + \n",
    "                                   str(x[-2:-1])) for x in knot_df.columns.to_list()}, inplace=True)\n",
    "    return knot_df"
   ]
  },
  {
   "cell_type": "markdown",
   "metadata": {},
   "source": [
    "## C) Exploratory Data Analysis\n",
    "\n",
    "Here, all basic demographic features will be evaluated for impact on level of CDI risk, following methodology for feature selection and transformation above\n",
    "\n",
    "    Age\n",
    "    Gender\n",
    "    Insurance\n",
    "    Ethnicity\n",
    "    Language\n",
    "    Marital Status"
   ]
  },
  {
   "cell_type": "markdown",
   "metadata": {},
   "source": [
    "### Create Demographics DataFrame to store Newly Generated Features\n",
    "\n",
    "Done to maintain ease of use of ICU_admits dataframe"
   ]
  },
  {
   "cell_type": "code",
   "execution_count": 17,
   "metadata": {},
   "outputs": [],
   "source": [
    "demographics_train = icu_admits_train[[\"subject_id\", \"hadm_id\", \"icustay_id\", \"overall_exclude\", \"cdi_dx_include\"]]\n",
    "demographics_test = icu_admits_test[[\"subject_id\", \"hadm_id\", \"icustay_id\", \"overall_exclude\", \"cdi_dx_include\"]]"
   ]
  },
  {
   "cell_type": "markdown",
   "metadata": {},
   "source": [
    "### Age"
   ]
  },
  {
   "cell_type": "markdown",
   "metadata": {},
   "source": [
    "#### Plot and compare distributions"
   ]
  },
  {
   "cell_type": "code",
   "execution_count": 15,
   "metadata": {
    "scrolled": false
   },
   "outputs": [
    {
     "name": "stdout",
     "output_type": "stream",
     "text": [
      "Two-sample Kolmogorov-Smirnov Test:\n",
      "Statistic: 0.13050122748220028\n",
      "P-Value: 9.885001043373021e-08\n"
     ]
    },
    {
     "data": {
      "image/png": "[encoded data removed]",
      "text/plain": [
       "<Figure size 1080x720 with 1 Axes>"
      ]
     },
     "metadata": {
      "needs_background": "light"
     },
     "output_type": "display_data"
    }
   ],
   "source": [
    "series1 = icu_admits_train[(icu_admits_train[\"overall_exclude\"] == False) &\n",
    "                         (icu_admits_train[\"cdi_lab_dx\"] == 1)][\"admit_age\"]\n",
    "\n",
    "series2 = icu_admits_train[(icu_admits_train[\"overall_exclude\"] == False) &\n",
    "                         (icu_admits_train[\"cdi_lab_dx\"] == 0)][\"admit_age\"]\n",
    "\n",
    "plot_two_hist(series1,\n",
    "              series2,\n",
    "              title = \"CDI Risk by Age\",\n",
    "              xlabel = \"Age at Hospital Admission\",\n",
    "              ylabel = \"Number of ICU Admissions\")\n"
   ]
  },
  {
   "cell_type": "markdown",
   "metadata": {},
   "source": [
    "#### Comments:\n",
    "\n",
    "Patients below age 19 are known to contact CDI extremely rarely and are often excluded from prediction models. I remove them here as well"
   ]
  },
  {
   "cell_type": "code",
   "execution_count": 18,
   "metadata": {},
   "outputs": [
    {
     "name": "stderr",
     "output_type": "stream",
     "text": [
      "C:\\Users\\fuzzyman27\\anaconda3\\envs\\dsi\\lib\\site-packages\\pandas\\core\\indexing.py:480: SettingWithCopyWarning: \n",
      "A value is trying to be set on a copy of a slice from a DataFrame.\n",
      "Try using .loc[row_indexer,col_indexer] = value instead\n",
      "\n",
      "See the caveats in the documentation: http://pandas.pydata.org/pandas-docs/stable/user_guide/indexing.html#returning-a-view-versus-a-copy\n",
      "  self.obj[item] = s\n"
     ]
    }
   ],
   "source": [
    "icu_admits_train.loc[:,\"overall_exclude\"] = ((icu_admits_train.loc[:,\"overall_exclude\"] == True) | \n",
    "                                       (icu_admits_train.loc[:,\"admit_age\"] < 20))\n",
    "icu_admits_test.loc[:,\"overall_exclude\"] = ((icu_admits_test.loc[:,\"overall_exclude\"] == True) | \n",
    "                                       (icu_admits_test.loc[:,\"admit_age\"] < 20))\n",
    "\n",
    "demographics_train.loc[:,\"overall_exclude\"] = ((icu_admits_train.loc[:,\"overall_exclude\"] == True) | \n",
    "                                       (icu_admits_train.loc[:,\"admit_age\"] < 20))\n",
    "demographics_test.loc[:,\"overall_exclude\"] = ((icu_admits_test.loc[:,\"overall_exclude\"] == True) | \n",
    "                                       (icu_admits_test.loc[:,\"admit_age\"] < 20))"
   ]
  },
  {
   "cell_type": "markdown",
   "metadata": {},
   "source": [
    "Perform univariate logistic regression on admit age to confirm statistical significance of predictor"
   ]
  },
  {
   "cell_type": "code",
   "execution_count": 19,
   "metadata": {
    "scrolled": false
   },
   "outputs": [
    {
     "name": "stdout",
     "output_type": "stream",
     "text": [
      "Optimization terminated successfully.\n",
      "         Current function value: 0.089983\n",
      "         Iterations 8\n",
      "Summary Stats:\n",
      "                           Logit Regression Results                           \n",
      "==============================================================================\n",
      "Dep. Variable:         cdi_dx_include   No. Observations:                35126\n",
      "Model:                          Logit   Df Residuals:                    35125\n",
      "Method:                           MLE   Df Model:                            0\n",
      "Date:                Thu, 12 Sep 2019   Pseudo R-squ.:                 -0.2052\n",
      "Time:                        03:46:07   Log-Likelihood:                -3160.7\n",
      "converged:                       True   LL-Null:                       -2622.5\n",
      "Covariance Type:            nonrobust   LLR p-value:                       nan\n",
      "==============================================================================\n",
      "                 coef    std err          z      P>|z|      [0.025      0.975]\n",
      "------------------------------------------------------------------------------\n",
      "admit_age     -0.0694      0.001    -89.633      0.000      -0.071      -0.068\n",
      "==============================================================================\n",
      "Odds Ratio\n",
      "admit_age    0.932952\n",
      "dtype: float64\n"
     ]
    }
   ],
   "source": [
    "uni_log(\"admit_age\", icu_admits_train[icu_admits_train[\"overall_exclude\"]== False], categorical = False)"
   ]
  },
  {
   "cell_type": "markdown",
   "metadata": {},
   "source": [
    "Add age to demographics dataframes"
   ]
  },
  {
   "cell_type": "code",
   "execution_count": 22,
   "metadata": {},
   "outputs": [
    {
     "name": "stderr",
     "output_type": "stream",
     "text": [
      "C:\\Users\\fuzzyman27\\anaconda3\\envs\\dsi\\lib\\site-packages\\pandas\\core\\indexing.py:362: SettingWithCopyWarning: \n",
      "A value is trying to be set on a copy of a slice from a DataFrame.\n",
      "Try using .loc[row_indexer,col_indexer] = value instead\n",
      "\n",
      "See the caveats in the documentation: http://pandas.pydata.org/pandas-docs/stable/user_guide/indexing.html#returning-a-view-versus-a-copy\n",
      "  self.obj[key] = _infer_fill_value(value)\n"
     ]
    }
   ],
   "source": [
    "demographics_train.loc[:,\"admit age\"] = icu_admits_train.loc[:,\"admit_age\"]\n",
    "demographics_test.loc[:,\"admit age\"] = icu_admits_test.loc[:,\"admit_age\"]"
   ]
  },
  {
   "cell_type": "markdown",
   "metadata": {},
   "source": [
    "##### Transform age using cubic splines\n",
    "Instead of attempting to fit a linear function to age or binning them with a resulting \"flat\" prediction within each bin, the below proess utilizes cubic splines to enable a degree 3 polynomial function to be fit to each of several piecewise components of age.\n",
    "\n",
    "Analysis inspired by and code derived in part from blog post here, which does a great job at explaining the value of utilizing cubic splines:\n",
    "\n",
    "https://www.analyticsvidhya.com/blog/2018/03/introduction-regression-splines-python-codes/\n",
    "\n",
    "Knot points are selected such that density of data is evenly distributed (35th, 50th, and 75th percentiles). As a result of these knots, 5 total age features are created"
   ]
  },
  {
   "cell_type": "code",
   "execution_count": 36,
   "metadata": {},
   "outputs": [
    {
     "name": "stdout",
     "output_type": "stream",
     "text": [
      "[20.04659278 53.61864483 66.02188013 77.72439993]\n"
     ]
    }
   ],
   "source": [
    "# Create knot points for splines based on evenly spaced percentiles of data\n",
    "\n",
    "age_knots = np.percentile(demographics_train[(demographics_train[\"overall_exclude\"]==False)][\"admit age\"], \n",
    "                           [0, 25, 50, 75])\n",
    "\n",
    "print(age_knots)"
   ]
  },
  {
   "cell_type": "code",
   "execution_count": 39,
   "metadata": {},
   "outputs": [],
   "source": [
    "# Use cubic spline function above to create features using above knot points and concat to demographics_df\n",
    "demographics_train = pd.concat([demographics_train, \n",
    "                                create_knot_df(demographics_train, \"admit age\", age_knots)], axis=1)\n",
    "demographics_test = pd.concat([demographics_test, \n",
    "                                create_knot_df(demographics_test, \"admit age\", age_knots)], axis=1)"
   ]
  },
  {
   "cell_type": "code",
   "execution_count": 42,
   "metadata": {},
   "outputs": [
    {
     "name": "stdout",
     "output_type": "stream",
     "text": [
      "Optimization terminated successfully.\n",
      "         Current function value: 0.074200\n",
      "         Iterations 9\n",
      "Summary Stats:\n",
      "                           Logit Regression Results                           \n",
      "==============================================================================\n",
      "Dep. Variable:         cdi_dx_include   No. Observations:                35126\n",
      "Model:                          Logit   Df Residuals:                    35119\n",
      "Method:                           MLE   Df Model:                            6\n",
      "Date:                Thu, 12 Sep 2019   Pseudo R-squ.:                0.006148\n",
      "Time:                        04:00:40   Log-Likelihood:                -2606.3\n",
      "converged:                       True   LL-Null:                       -2622.5\n",
      "Covariance Type:            nonrobust   LLR p-value:                 1.463e-05\n",
      "====================================================================================\n",
      "                       coef    std err          z      P>|z|      [0.025      0.975]\n",
      "------------------------------------------------------------------------------------\n",
      "admit age_knot 0    -4.5263      0.863     -5.242      0.000      -6.219      -2.834\n",
      "admit age_knot 1    -5.2516      0.720     -7.294      0.000      -6.663      -3.840\n",
      "admit age_knot 2    -4.1824      0.387    -10.801      0.000      -4.941      -3.423\n",
      "admit age_knot 3    -4.5541      0.210    -21.698      0.000      -4.966      -4.143\n",
      "admit age_knot 4    -3.5187      0.249    -14.149      0.000      -4.006      -3.031\n",
      "admit age_knot 5    -4.3045      0.272    -15.815      0.000      -4.838      -3.771\n",
      "admit age_knot 6    -4.0148      0.172    -23.383      0.000      -4.351      -3.678\n",
      "====================================================================================\n",
      "Odds Ratio\n",
      "admit age_knot 0    0.010820\n",
      "admit age_knot 1    0.005239\n",
      "admit age_knot 2    0.015262\n",
      "admit age_knot 3    0.010524\n",
      "admit age_knot 4    0.029638\n",
      "admit age_knot 5    0.013507\n",
      "admit age_knot 6    0.018047\n",
      "dtype: float64\n"
     ]
    }
   ],
   "source": [
    "result = uni_log(['admit age_knot 0', 'admit age_knot 1',\n",
    "       'admit age_knot 2', 'admit age_knot 3', 'admit age_knot 4',\n",
    "       'admit age_knot 5', 'admit age_knot 6'], demographics_train, categorical = False, return_model=True)"
   ]
  },
  {
   "cell_type": "code",
   "execution_count": 44,
   "metadata": {},
   "outputs": [],
   "source": [
    "pred1 = result.predict(demographics_train[demographics_train[\"overall_exclude\"]==False][['admit age_knot 0',\n",
    "                                                                                       'admit age_knot 1',\n",
    "                                                                                       'admit age_knot 2',\n",
    "                                                                                       'admit age_knot 3', \n",
    "                                                                                       'admit age_knot 4',\n",
    "                                                                                       'admit age_knot 5',\n",
    "                                                                                        'admit age_knot 6']])"
   ]
  },
  {
   "cell_type": "code",
   "execution_count": 49,
   "metadata": {},
   "outputs": [
    {
     "data": {
      "text/plain": [
       "''"
      ]
     },
     "execution_count": 49,
     "metadata": {},
     "output_type": "execute_result"
    },
    {
     "data": {
      "image/png": "[encoded data removed]",
      "text/plain": [
       "<Figure size 864x864 with 1 Axes>"
      ]
     },
     "metadata": {
      "needs_background": "light"
     },
     "output_type": "display_data"
    }
   ],
   "source": [
    "fig, ax = plt.subplots(figsize = (12,12))\n",
    "plt.scatter(demographics_train[demographics_train[\"overall_exclude\"]==False][\"admit age\"],\n",
    "        pred1)\n",
    "plt.title(\"Cubic Spline Transformation: Age vs CDI Risk\\n\", fontsize = 20)\n",
    "plt.xticks(fontsize = 15)\n",
    "plt.yticks(fontsize = 15)\n",
    "ax.set_ylabel(\"CDI Risk\", fontsize = 20)\n",
    "ax.set_xlabel(\"Age\", fontsize = 20)  \n",
    ";"
   ]
  },
  {
   "cell_type": "markdown",
   "metadata": {},
   "source": [
    "##### Evaluate results\n",
    "\n",
    "Age as the lone indepedent variable does not result in a strong model for CDI given CDI data is significantly imbalanced. However, variables achieved statistical significance both with age as a continuous variable and when transformed via cubic splines. All variables across. Once transformed, pseuod r-squared increased from -.2 to 0.001. log likelihood increased from -3160 to -2617, the latter of which is similar to the LL achieved in the null model and suggests transforming age via cubic splines is likely to improve model performance"
   ]
  },
  {
   "cell_type": "markdown",
   "metadata": {},
   "source": [
    "### Gender\n",
    "\n",
    "Note: 1 = female"
   ]
  },
  {
   "cell_type": "markdown",
   "metadata": {},
   "source": [
    "##### Conduct EDA on categorical variable"
   ]
  },
  {
   "cell_type": "code",
   "execution_count": 88,
   "metadata": {},
   "outputs": [
    {
     "name": "stdout",
     "output_type": "stream",
     "text": [
      "Counts:\n",
      "0    19876\n",
      "1    15250\n",
      "Name: gender, dtype: int64\n",
      "\n",
      "Mean CDI Rate:\n",
      "gender\n",
      "0    0.013584\n",
      "1    0.015082\n",
      "Name: cdi_dx_include, dtype: float64\n",
      "\n",
      "Optimization terminated successfully.\n",
      "         Current function value: 0.426178\n",
      "         Iterations 8\n",
      "Summary Stats:\n",
      "                           Logit Regression Results                           \n",
      "==============================================================================\n",
      "Dep. Variable:         cdi_dx_include   No. Observations:                35126\n",
      "Model:                          Logit   Df Residuals:                    35125\n",
      "Method:                           MLE   Df Model:                            0\n",
      "Date:                Fri, 06 Sep 2019   Pseudo R-squ.:                  -4.708\n",
      "Time:                        11:56:00   Log-Likelihood:                -14970.\n",
      "converged:                       True   LL-Null:                       -2622.5\n",
      "Covariance Type:            nonrobust   LLR p-value:                       nan\n",
      "==============================================================================\n",
      "                 coef    std err          z      P>|z|      [0.025      0.975]\n",
      "------------------------------------------------------------------------------\n",
      "gender        -4.1791      0.066    -62.899      0.000      -4.309      -4.049\n",
      "==============================================================================\n",
      "Odds Ratio\n",
      "gender    0.015313\n",
      "dtype: float64\n"
     ]
    }
   ],
   "source": [
    "categorical_stats(\"gender\", icu_admits_train, binary = True)"
   ]
  },
  {
   "cell_type": "markdown",
   "metadata": {},
   "source": [
    "##### Analyze Results\n",
    "\n",
    "Gender seems to be a weak predictor of CDI rates with mean rates of 1.5% and 1.35% between females and males respectively. Gender is a significant predictor at p << 0.05."
   ]
  },
  {
   "cell_type": "code",
   "execution_count": 91,
   "metadata": {},
   "outputs": [],
   "source": [
    "demographics_train.loc[:,\"gender\"] = icu_admits_train.loc[:,\"gender\"]\n",
    "demographics_test.loc[:,\"gender\"] = icu_admits_test.loc[:,\"gender\"]"
   ]
  },
  {
   "cell_type": "code",
   "execution_count": 105,
   "metadata": {},
   "outputs": [
    {
     "name": "stdout",
     "output_type": "stream",
     "text": [
      "Optimization terminated successfully.\n",
      "         Current function value: 0.074515\n",
      "         Iterations 9\n",
      "Summary Stats:\n",
      "                           Logit Regression Results                           \n",
      "==============================================================================\n",
      "Dep. Variable:         cdi_dx_include   No. Observations:                35126\n",
      "Model:                          Logit   Df Residuals:                    35119\n",
      "Method:                           MLE   Df Model:                            6\n",
      "Date:                Fri, 06 Sep 2019   Pseudo R-squ.:                0.001925\n",
      "Time:                        12:22:04   Log-Likelihood:                -2617.4\n",
      "converged:                       True   LL-Null:                       -2622.5\n",
      "Covariance Type:            nonrobust   LLR p-value:                    0.1206\n",
      "====================================================================================\n",
      "                       coef    std err          z      P>|z|      [0.025      0.975]\n",
      "------------------------------------------------------------------------------------\n",
      "admit age_knot 0    -8.7795      0.489    -17.937      0.000      -9.739      -7.820\n",
      "admit age_knot 1    -2.9614      0.345     -8.583      0.000      -3.638      -2.285\n",
      "admit age_knot 2    -4.9492      0.202    -24.513      0.000      -5.345      -4.553\n",
      "admit age_knot 3    -3.2645      0.244    -13.371      0.000      -3.743      -2.786\n",
      "admit age_knot 4    -4.5004      0.277    -16.275      0.000      -5.042      -3.958\n",
      "admit age_knot 5    -4.0257      0.180    -22.407      0.000      -4.378      -3.674\n",
      "gender               0.0506      0.091      0.558      0.577      -0.127       0.228\n",
      "====================================================================================\n",
      "Odds Ratio\n",
      "admit age_knot 0    0.000154\n",
      "admit age_knot 1    0.051746\n",
      "admit age_knot 2    0.007089\n",
      "admit age_knot 3    0.038215\n",
      "admit age_knot 4    0.011105\n",
      "admit age_knot 5    0.017851\n",
      "gender              1.051886\n",
      "dtype: float64\n"
     ]
    }
   ],
   "source": [
    "uni_log(['admit age_knot 0', 'admit age_knot 1',\n",
    "       'admit age_knot 2', 'admit age_knot 3', 'admit age_knot 4',\n",
    "       'admit age_knot 5', 'gender'], \n",
    "        demographics_train,\n",
    "       categorical = False)"
   ]
  },
  {
   "cell_type": "markdown",
   "metadata": {},
   "source": [
    "When included alongside age, gender is no longer a significant predictor and can be dropped from further analysis"
   ]
  },
  {
   "cell_type": "code",
   "execution_count": 106,
   "metadata": {},
   "outputs": [],
   "source": [
    "demographics_train.drop(columns = \"gender\", inplace=True)\n",
    "demographics_test.drop(columns = \"gender\", inplace=True)"
   ]
  },
  {
   "cell_type": "markdown",
   "metadata": {},
   "source": [
    "### Insurance"
   ]
  },
  {
   "cell_type": "markdown",
   "metadata": {},
   "source": [
    "Get categorical stats and run univariate logistic regression"
   ]
  },
  {
   "cell_type": "code",
   "execution_count": 29,
   "metadata": {
    "scrolled": false
   },
   "outputs": [
    {
     "name": "stdout",
     "output_type": "stream",
     "text": [
      "Counts:\n",
      "Medicare      19822\n",
      "Private       11051\n",
      "Medicaid       2987\n",
      "Government      957\n",
      "Self Pay        309\n",
      "Name: insurance, dtype: int64\n",
      "\n",
      "Mean CDI Rate:\n",
      "insurance\n",
      "Government    0.008359\n",
      "Medicaid      0.017744\n",
      "Medicare      0.016446\n",
      "Private       0.009954\n",
      "Self Pay      0.009709\n",
      "Name: cdi_dx_include, dtype: float64\n",
      "\n",
      "Optimization terminated successfully.\n",
      "         Current function value: 0.091823\n",
      "         Iterations 9\n",
      "Summary Stats:\n",
      "                           Logit Regression Results                           \n",
      "==============================================================================\n",
      "Dep. Variable:         cdi_dx_include   No. Observations:                35126\n",
      "Model:                          Logit   Df Residuals:                    35122\n",
      "Method:                           MLE   Df Model:                            3\n",
      "Date:                Sat, 17 Aug 2019   Pseudo R-squ.:                 -0.2299\n",
      "Time:                        21:38:45   Log-Likelihood:                -3225.4\n",
      "converged:                       True   LL-Null:                       -2622.5\n",
      "Covariance Type:            nonrobust   LLR p-value:                     1.000\n",
      "======================================================================================\n",
      "                         coef    std err          z      P>|z|      [0.025      0.975]\n",
      "--------------------------------------------------------------------------------------\n",
      "insurance_Medicaid    -4.0138      0.139    -28.961      0.000      -4.285      -3.742\n",
      "insurance_Medicare    -4.0911      0.056    -73.256      0.000      -4.201      -3.982\n",
      "insurance_Private     -4.5998      0.096    -48.002      0.000      -4.788      -4.412\n",
      "insurance_Self Pay    -4.6250      0.580     -7.972      0.000      -5.762      -3.488\n",
      "======================================================================================\n",
      "Odds Ratio\n",
      "insurance_Medicaid    0.018064\n",
      "insurance_Medicare    0.016721\n",
      "insurance_Private     0.010054\n",
      "insurance_Self Pay    0.009804\n",
      "dtype: float64\n"
     ]
    }
   ],
   "source": [
    "categorical_stats(\"insurance\", icu_admits_train, binary = False)"
   ]
  },
  {
   "cell_type": "code",
   "execution_count": 102,
   "metadata": {
    "scrolled": true
   },
   "outputs": [],
   "source": [
    "demographics_train = pd.concat([demographics_train,\n",
    "                                pd.get_dummies(icu_admits_train[\"insurance\"], \n",
    "                                               prefix = \"insurance\").drop(columns = \"insurance_Medicare\")],\n",
    "                               axis=1)\n",
    "demographics_test = pd.concat([demographics_test,\n",
    "                                pd.get_dummies(icu_admits_test[\"insurance\"], \n",
    "                                               prefix = \"insurance\").drop(columns = \"insurance_Medicare\")],\n",
    "                               axis=1)"
   ]
  },
  {
   "cell_type": "code",
   "execution_count": 103,
   "metadata": {},
   "outputs": [
    {
     "data": {
      "text/plain": [
       "Index(['subject_id', 'hadm_id', 'icustay_id', 'overall_exclude',\n",
       "       'cdi_dx_include', 'admit age', 'admit age_knot 0', 'admit age_knot 1',\n",
       "       'admit age_knot 2', 'admit age_knot 3', 'admit age_knot 4',\n",
       "       'admit age_knot 5', 'gender', 'insurance_Government',\n",
       "       'insurance_Medicaid', 'insurance_Private', 'insurance_Self Pay'],\n",
       "      dtype='object')"
      ]
     },
     "execution_count": 103,
     "metadata": {},
     "output_type": "execute_result"
    }
   ],
   "source": [
    "demographics_train.columns"
   ]
  },
  {
   "cell_type": "markdown",
   "metadata": {},
   "source": [
    "##### Comments:\n",
    "Medicare patients make up the majority of admissions and not surprisingly have higher rates of CDI, likely because of the older age of these patients.\n",
    "\n",
    "As a sole predictor, insurance features are all statistically significant. However, these need to be validated alongside age\n",
    "\n",
    "There are under 500 self pay patients and less than 1,000 government patients, so these should be combined with the nearest similar category (private insurance).\n",
    "\n",
    "Before recategorizing, analysis below to determine if insurance status predictors are significant after accounting for age."
   ]
  },
  {
   "cell_type": "code",
   "execution_count": 107,
   "metadata": {},
   "outputs": [
    {
     "name": "stdout",
     "output_type": "stream",
     "text": [
      "Optimization terminated successfully.\n",
      "         Current function value: 0.074289\n",
      "         Iterations 9\n",
      "Summary Stats:\n",
      "                           Logit Regression Results                           \n",
      "==============================================================================\n",
      "Dep. Variable:         cdi_dx_include   No. Observations:                35126\n",
      "Model:                          Logit   Df Residuals:                    35116\n",
      "Method:                           MLE   Df Model:                            9\n",
      "Date:                Fri, 06 Sep 2019   Pseudo R-squ.:                0.004950\n",
      "Time:                        12:23:40   Log-Likelihood:                -2609.5\n",
      "converged:                       True   LL-Null:                       -2622.5\n",
      "Covariance Type:            nonrobust   LLR p-value:                  0.002074\n",
      "========================================================================================\n",
      "                           coef    std err          z      P>|z|      [0.025      0.975]\n",
      "----------------------------------------------------------------------------------------\n",
      "admit age_knot 0        -8.4681      0.532    -15.932      0.000      -9.510      -7.426\n",
      "admit age_knot 1        -2.8580      0.357     -7.999      0.000      -3.558      -2.158\n",
      "admit age_knot 2        -4.7737      0.213    -22.436      0.000      -5.191      -4.357\n",
      "admit age_knot 3        -3.3192      0.245    -13.573      0.000      -3.798      -2.840\n",
      "admit age_knot 4        -4.4145      0.274    -16.127      0.000      -4.951      -3.878\n",
      "admit age_knot 5        -3.9921      0.171    -23.384      0.000      -4.327      -3.658\n",
      "insurance_Government    -0.4523      0.374     -1.208      0.227      -1.186       0.282\n",
      "insurance_Medicaid       0.2984      0.176      1.698      0.089      -0.046       0.643\n",
      "insurance_Private       -0.3372      0.138     -2.442      0.015      -0.608      -0.067\n",
      "insurance_Self Pay      -0.3112      0.594     -0.524      0.600      -1.476       0.853\n",
      "========================================================================================\n",
      "Odds Ratio\n",
      "admit age_knot 0        0.000210\n",
      "admit age_knot 1        0.057386\n",
      "admit age_knot 2        0.008449\n",
      "admit age_knot 3        0.036183\n",
      "admit age_knot 4        0.012101\n",
      "admit age_knot 5        0.018461\n",
      "insurance_Government    0.636158\n",
      "insurance_Medicaid      1.347636\n",
      "insurance_Private       0.713745\n",
      "insurance_Self Pay      0.732551\n",
      "dtype: float64\n"
     ]
    }
   ],
   "source": [
    "uni_log(['admit age_knot 0', 'admit age_knot 1',\n",
    "       'admit age_knot 2', 'admit age_knot 3', 'admit age_knot 4',\n",
    "       'admit age_knot 5','insurance_Government',\n",
    "       'insurance_Medicaid', 'insurance_Private', 'insurance_Self Pay'], \n",
    "        demographics_train,\n",
    "       categorical = False)"
   ]
  },
  {
   "cell_type": "markdown",
   "metadata": {},
   "source": [
    "##### Comments:\n",
    "\n",
    "The only significant feature at p < .05 is private insurance. Self pay and government, though similar in odds ratios to private insurance are not significant, likely due to the smaller sample size. Below analysis repeated with self pay and government rolled up into private insurance"
   ]
  },
  {
   "cell_type": "code",
   "execution_count": 109,
   "metadata": {},
   "outputs": [],
   "source": [
    "demographics_train[\"insurance_govt_self_private\"] = ((demographics_train[\"insurance_Private\"] == 1) |\n",
    "                                                     (demographics_train[\"insurance_Self Pay\"] == 1) |\n",
    "                                                     (demographics_train[\"insurance_Government\"] == 1)).map(lambda x: 1 if x == True else 0)\n",
    "demographics_test[\"insurance_govt_self_private\"] = ((demographics_test[\"insurance_Private\"] == 1) |\n",
    "                                                     (demographics_test[\"insurance_Self Pay\"] == 1) |\n",
    "                                                     (demographics_test[\"insurance_Government\"] == 1)).map(lambda x: 1 if x == True else 0)"
   ]
  },
  {
   "cell_type": "code",
   "execution_count": 110,
   "metadata": {},
   "outputs": [
    {
     "name": "stdout",
     "output_type": "stream",
     "text": [
      "Optimization terminated successfully.\n",
      "         Current function value: 0.074331\n",
      "         Iterations 9\n",
      "Summary Stats:\n",
      "                           Logit Regression Results                           \n",
      "==============================================================================\n",
      "Dep. Variable:         cdi_dx_include   No. Observations:                35126\n",
      "Model:                          Logit   Df Residuals:                    35119\n",
      "Method:                           MLE   Df Model:                            6\n",
      "Date:                Fri, 06 Sep 2019   Pseudo R-squ.:                0.004393\n",
      "Time:                        12:31:06   Log-Likelihood:                -2610.9\n",
      "converged:                       True   LL-Null:                       -2622.5\n",
      "Covariance Type:            nonrobust   LLR p-value:                 0.0007827\n",
      "===============================================================================================\n",
      "                                  coef    std err          z      P>|z|      [0.025      0.975]\n",
      "-----------------------------------------------------------------------------------------------\n",
      "admit age_knot 0               -8.2225      0.506    -16.261      0.000      -9.214      -7.231\n",
      "admit age_knot 1               -2.7335      0.349     -7.829      0.000      -3.418      -2.049\n",
      "admit age_knot 2               -4.6941      0.206    -22.763      0.000      -5.098      -4.290\n",
      "admit age_knot 3               -3.3595      0.244    -13.783      0.000      -3.837      -2.882\n",
      "admit age_knot 4               -4.3801      0.272    -16.076      0.000      -4.914      -3.846\n",
      "admit age_knot 5               -3.9911      0.171    -23.349      0.000      -4.326      -3.656\n",
      "insurance_govt_self_private    -0.4408      0.122     -3.599      0.000      -0.681      -0.201\n",
      "===============================================================================================\n",
      "Odds Ratio\n",
      "admit age_knot 0               0.000269\n",
      "admit age_knot 1               0.064989\n",
      "admit age_knot 2               0.009150\n",
      "admit age_knot 3               0.034754\n",
      "admit age_knot 4               0.012524\n",
      "admit age_knot 5               0.018480\n",
      "insurance_govt_self_private    0.643499\n",
      "dtype: float64\n"
     ]
    }
   ],
   "source": [
    "uni_log(['admit age_knot 0', 'admit age_knot 1',\n",
    "       'admit age_knot 2', 'admit age_knot 3', 'admit age_knot 4',\n",
    "       'admit age_knot 5', \"insurance_govt_self_private\"], \n",
    "        demographics_train,\n",
    "       categorical = False)"
   ]
  },
  {
   "cell_type": "markdown",
   "metadata": {},
   "source": [
    "##### Comments:\n",
    "\n",
    "Insurance remains a significant feature when private, self pay and government are all rolled into one feature, with an almost identical max log-likelihood result compared to all insurance types modeled separately. "
   ]
  },
  {
   "cell_type": "code",
   "execution_count": 112,
   "metadata": {},
   "outputs": [],
   "source": [
    "demographics_train.drop(columns = ['insurance_Government', 'insurance_Medicaid',\n",
    "       'insurance_Private', 'insurance_Self Pay'], inplace=True)\n",
    "\n",
    "demographics_test.drop(columns = ['insurance_Government', 'insurance_Medicaid',\n",
    "       'insurance_Private', 'insurance_Self Pay'], inplace=True)"
   ]
  },
  {
   "cell_type": "markdown",
   "metadata": {},
   "source": [
    "###  Language"
   ]
  },
  {
   "cell_type": "code",
   "execution_count": 32,
   "metadata": {},
   "outputs": [
    {
     "data": {
      "text/plain": [
       "ENGL    19871\n",
       "None    12180\n",
       "SPAN      740\n",
       "RUSS      542\n",
       "PTUN      413\n",
       "CANT      258\n",
       "PORT      238\n",
       "CAPE      141\n",
       "HAIT       94\n",
       "ITAL       89\n",
       "Name: language, dtype: int64"
      ]
     },
     "execution_count": 32,
     "metadata": {},
     "output_type": "execute_result"
    }
   ],
   "source": [
    "icu_admits_train[icu_admits_train[\"overall_exclude\"] == False][\"language\"].value_counts().head(10)"
   ]
  },
  {
   "cell_type": "markdown",
   "metadata": {},
   "source": [
    "Given there are a wide variety of languages spoken, analysis below is for english vs all others"
   ]
  },
  {
   "cell_type": "code",
   "execution_count": 33,
   "metadata": {},
   "outputs": [
    {
     "name": "stdout",
     "output_type": "stream",
     "text": [
      "English: \n",
      "0.012782446781742238\n",
      "Spanish: \n",
      "0.016216216216216217\n",
      "No Language: \n",
      "0.015763546798029555\n",
      "Others: \n",
      "0.017987152034261242\n"
     ]
    }
   ],
   "source": [
    "print(\"English: \")\n",
    "print(icu_admits_train[(icu_admits_train[\"overall_exclude\"] == False)&\n",
    "                       (icu_admits_train[\"language\"] == \"ENGL\")][\"cdi_dx_include\"].mean())\n",
    "\n",
    "print(\"Spanish: \")\n",
    "print(icu_admits_train[(icu_admits_train[\"overall_exclude\"] == False)&\n",
    "                       (icu_admits_train[\"language\"] == \"SPAN\")][\"cdi_dx_include\"].mean())\n",
    "\n",
    "print(\"No Language: \")\n",
    "print(icu_admits_train[(icu_admits_train[\"overall_exclude\"] == False)&\n",
    "                       (icu_admits_train[\"language\"] == \"None\")][\"cdi_dx_include\"].mean())\n",
    "\n",
    "print(\"Others: \")\n",
    "print(icu_admits_train[(icu_admits_train[\"overall_exclude\"] == False)&\n",
    "                       (icu_admits_train[\"language\"] != \"ENGL\")&\n",
    "                       (icu_admits_train[\"language\"] != \"SPAN\") &\n",
    "                       (icu_admits_train[\"language\"] != \"None\")][\"cdi_dx_include\"].mean())"
   ]
  },
  {
   "cell_type": "markdown",
   "metadata": {},
   "source": [
    "##### Comments:\n",
    "English patients seem to have lower CDI rates compared to patients who speak other languages while those who speak \"other\" languages seem to have slightly higher CDI rates. Statistical validation done below by creating dummy variables for these lanugages and modeling with logistic regression"
   ]
  },
  {
   "cell_type": "code",
   "execution_count": 116,
   "metadata": {},
   "outputs": [],
   "source": [
    "demographics_train.loc[:,\"lang_english\"] = (icu_admits_train.loc[:,\"language\"] == \"ENGL\").map(lambda x: 1 if x == True else 0)\n",
    "demographics_test.loc[:,\"lang_english\"] = (icu_admits_test.loc[:,\"language\"] == \"ENGL\").map(lambda x: 1 if x == True else 0)\n",
    "\n",
    "demographics_train.loc[:,\"lang_spanish\"] = (icu_admits_train.loc[:,\"language\"] == \"SPAN\").map(lambda x: 1 if x == True else 0)\n",
    "demographics_test.loc[:,\"lang_spanish\"] = (icu_admits_test.loc[:,\"language\"] == \"SPAN\").map(lambda x: 1 if x == True else 0)\n",
    "\n",
    "demographics_train.loc[:,\"lang_None\"] = (icu_admits_train.loc[:,\"language\"] == \"None\").map(lambda x: 1 if x == True else 0)\n",
    "demographics_test.loc[:,\"lang_None\"] = (icu_admits_test.loc[:,\"language\"] == \"None\").map(lambda x: 1 if x == True else 0)\n"
   ]
  },
  {
   "cell_type": "code",
   "execution_count": 117,
   "metadata": {},
   "outputs": [],
   "source": [
    "demographics_train.loc[:,\"lang_Other\"] = ((demographics_train.loc[:,\"lang_english\"] == 0)&\n",
    "                                         (demographics_train.loc[:,\"lang_spanish\"] == 0)&\n",
    "                                         (demographics_train.loc[:,\"lang_None\"] == 0)).map(lambda x: 1 if x == True else 0)\n",
    "\n",
    "demographics_test.loc[:,\"lang_Other\"] = ((demographics_test.loc[:,\"lang_english\"] == 0)&\n",
    "                                         (demographics_test.loc[:,\"lang_spanish\"] == 0)&\n",
    "                                         (demographics_test.loc[:,\"lang_None\"] == 0)).map(lambda x: 1 if x == True else 0)"
   ]
  },
  {
   "cell_type": "code",
   "execution_count": 126,
   "metadata": {},
   "outputs": [
    {
     "data": {
      "text/plain": [
       "Index(['subject_id', 'hadm_id', 'icustay_id', 'overall_exclude',\n",
       "       'cdi_dx_include', 'admit age', 'admit age_knot 0', 'admit age_knot 1',\n",
       "       'admit age_knot 2', 'admit age_knot 3', 'admit age_knot 4',\n",
       "       'admit age_knot 5', 'insurance_govt_self_private', 'lang_english',\n",
       "       'lang_spanish', 'lang_None', 'lang_Other'],\n",
       "      dtype='object')"
      ]
     },
     "execution_count": 126,
     "metadata": {},
     "output_type": "execute_result"
    }
   ],
   "source": [
    "demographics_train.columns"
   ]
  },
  {
   "cell_type": "code",
   "execution_count": 127,
   "metadata": {},
   "outputs": [
    {
     "name": "stdout",
     "output_type": "stream",
     "text": [
      "Optimization terminated successfully.\n",
      "         Current function value: 0.286796\n",
      "         Iterations 8\n",
      "Summary Stats:\n",
      "                           Logit Regression Results                           \n",
      "==============================================================================\n",
      "Dep. Variable:         cdi_dx_include   No. Observations:                35126\n",
      "Model:                          Logit   Df Residuals:                    35123\n",
      "Method:                           MLE   Df Model:                            2\n",
      "Date:                Fri, 06 Sep 2019   Pseudo R-squ.:                  -2.841\n",
      "Time:                        13:29:49   Log-Likelihood:                -10074.\n",
      "converged:                       True   LL-Null:                       -2622.5\n",
      "Covariance Type:            nonrobust   LLR p-value:                     1.000\n",
      "================================================================================\n",
      "                   coef    std err          z      P>|z|      [0.025      0.975]\n",
      "--------------------------------------------------------------------------------\n",
      "lang_english    -4.3468      0.063    -68.833      0.000      -4.471      -4.223\n",
      "lang_spanish    -4.1054      0.291    -14.106      0.000      -4.676      -3.535\n",
      "lang_Other      -3.9999      0.156    -25.688      0.000      -4.305      -3.695\n",
      "================================================================================\n",
      "Odds Ratio\n",
      "lang_english    0.012948\n",
      "lang_spanish    0.016484\n",
      "lang_Other      0.018317\n",
      "dtype: float64\n"
     ]
    }
   ],
   "source": [
    "uni_log(['lang_english',\n",
    "       'lang_spanish', 'lang_Other'], demographics_train, categorical = False)"
   ]
  },
  {
   "cell_type": "markdown",
   "metadata": {},
   "source": [
    "All three language variables are significant predictors at p < .05 when compared to a base value of language = \"None\""
   ]
  },
  {
   "cell_type": "code",
   "execution_count": 128,
   "metadata": {},
   "outputs": [
    {
     "name": "stdout",
     "output_type": "stream",
     "text": [
      "Optimization terminated successfully.\n",
      "         Current function value: 0.074233\n",
      "         Iterations 9\n",
      "Summary Stats:\n",
      "                           Logit Regression Results                           \n",
      "==============================================================================\n",
      "Dep. Variable:         cdi_dx_include   No. Observations:                35126\n",
      "Model:                          Logit   Df Residuals:                    35116\n",
      "Method:                           MLE   Df Model:                            9\n",
      "Date:                Fri, 06 Sep 2019   Pseudo R-squ.:                0.005710\n",
      "Time:                        13:30:57   Log-Likelihood:                -2607.5\n",
      "converged:                       True   LL-Null:                       -2622.5\n",
      "Covariance Type:            nonrobust   LLR p-value:                 0.0004478\n",
      "===============================================================================================\n",
      "                                  coef    std err          z      P>|z|      [0.025      0.975]\n",
      "-----------------------------------------------------------------------------------------------\n",
      "admit age_knot 0               -7.9740      0.520    -15.346      0.000      -8.992      -6.956\n",
      "admit age_knot 1               -2.6522      0.352     -7.530      0.000      -3.342      -1.962\n",
      "admit age_knot 2               -4.5402      0.218    -20.816      0.000      -4.968      -4.113\n",
      "admit age_knot 3               -3.2813      0.247    -13.285      0.000      -3.765      -2.797\n",
      "admit age_knot 4               -4.2527      0.280    -15.199      0.000      -4.801      -3.704\n",
      "admit age_knot 5               -3.8753      0.181    -21.414      0.000      -4.230      -3.521\n",
      "insurance_govt_self_private    -0.4442      0.123     -3.615      0.000      -0.685      -0.203\n",
      "lang_english                   -0.2299      0.096     -2.400      0.016      -0.418      -0.042\n",
      "lang_spanish                    0.0195      0.301      0.065      0.948      -0.570       0.609\n",
      "lang_Other                      0.0309      0.172      0.179      0.858      -0.307       0.368\n",
      "===============================================================================================\n",
      "Odds Ratio\n",
      "admit age_knot 0               0.000344\n",
      "admit age_knot 1               0.070498\n",
      "admit age_knot 2               0.010671\n",
      "admit age_knot 3               0.037581\n",
      "admit age_knot 4               0.014225\n",
      "admit age_knot 5               0.020747\n",
      "insurance_govt_self_private    0.641332\n",
      "lang_english                   0.794651\n",
      "lang_spanish                   1.019656\n",
      "lang_Other                     1.031342\n",
      "dtype: float64\n"
     ]
    }
   ],
   "source": [
    "uni_log(['admit age_knot 0', 'admit age_knot 1',\n",
    "       'admit age_knot 2', 'admit age_knot 3', 'admit age_knot 4',\n",
    "       'admit age_knot 5', 'insurance_govt_self_private', 'lang_english',\n",
    "       'lang_spanish', 'lang_Other'],\n",
    "       demographics_train,\n",
    "       categorical=False)"
   ]
  },
  {
   "cell_type": "markdown",
   "metadata": {},
   "source": [
    "After accounting for age and insurance, english is the only remaining significant predictor"
   ]
  },
  {
   "cell_type": "code",
   "execution_count": 129,
   "metadata": {},
   "outputs": [],
   "source": [
    "demographics_train.drop(columns = ['lang_spanish', 'lang_Other', \"lang_None\"], inplace=True)\n",
    "demographics_test.drop(columns = ['lang_spanish', 'lang_Other', \"lang_None\"], inplace=True)"
   ]
  },
  {
   "cell_type": "markdown",
   "metadata": {},
   "source": [
    "### Ethnicity"
   ]
  },
  {
   "cell_type": "code",
   "execution_count": 56,
   "metadata": {},
   "outputs": [
    {
     "data": {
      "text/plain": [
       "WHITE                                                       25087\n",
       "BLACK/AFRICAN AMERICAN                                       3144\n",
       "UNKNOWN/NOT SPECIFIED                                        2796\n",
       "HISPANIC OR LATINO                                            908\n",
       "ASIAN                                                         843\n",
       "OTHER                                                         807\n",
       "UNABLE TO OBTAIN                                              547\n",
       "PATIENT DECLINED TO ANSWER                                    305\n",
       "HISPANIC/LATINO                                               292\n",
       "BLACK/CAPE VERDEAN                                            103\n",
       "MULTI RACE ETHNICITY                                           68\n",
       "BLACK/HAITIAN                                                  64\n",
       "PORTUGUESE                                                     56\n",
       "BLACK/AFRICAN                                                  30\n",
       "MIDDLE EASTERN                                                 30\n",
       "AMERICAN INDIAN/ALASKA NATIVE                                  22\n",
       "NATIVE HAWAIIAN OR OTHER PACIFIC ISLANDER                      10\n",
       "SOUTH AMERICAN                                                  6\n",
       "CARIBBEAN ISLAND                                                5\n",
       "AMERICAN INDIAN/ALASKA NATIVE FEDERALLY RECOGNIZED TRIBE        3\n",
       "Name: first_ethnicity, dtype: int64"
      ]
     },
     "execution_count": 56,
     "metadata": {},
     "output_type": "execute_result"
    }
   ],
   "source": [
    "icu_admits_train[icu_admits_train[\"overall_exclude\"] == False][\"first_ethnicity\"].value_counts()"
   ]
  },
  {
   "cell_type": "markdown",
   "metadata": {},
   "source": [
    "Similar to language, there are a wide variety of values here. Analysis of CDI rates below is done by grouping categories above together for whites, african americans, hispanic/latino and others."
   ]
  },
  {
   "cell_type": "code",
   "execution_count": 36,
   "metadata": {},
   "outputs": [
    {
     "name": "stdout",
     "output_type": "stream",
     "text": [
      "White: \n",
      "0.013463032141139919\n",
      "Black / African American: \n",
      "0.013623978201634877\n",
      "Hispanic or Latino: \n",
      "0.015479876160990712\n",
      "Unknown and Others: \n",
      "0.012177012177012177\n"
     ]
    }
   ],
   "source": [
    "print(\"White: \")\n",
    "print(icu_admits_train[icu_admits_train[\"first_ethnicity\"] == \"WHITE\"][\"cdi_dx_include\"].mean())\n",
    "\n",
    "print(\"Black / African American: \")\n",
    "print(icu_admits_train[(icu_admits_train[\"first_ethnicity\"] == \"BLACK/AFRICAN AMERICAN\") |\n",
    "                      (icu_admits_train[\"first_ethnicity\"] == \"BLACK/CAPE VERDEAN\")|\n",
    "                      (icu_admits_train[\"first_ethnicity\"] == \"BLACK/HAITIAN\")|\n",
    "                      (icu_admits_train[\"first_ethnicity\"] == \"BLACK/AFRICAN\")][\"cdi_dx_include\"].mean())\n",
    "\n",
    "print(\"Hispanic or Latino: \")\n",
    "print(icu_admits_train[(icu_admits_train[\"first_ethnicity\"] == \"HISPANIC OR LATNO\")|\n",
    "                       (icu_admits_train[\"first_ethnicity\"] == \"HISPANIC/LATINO\")|\n",
    "                      (icu_admits_train[\"first_ethnicity\"] == \"SOUTH AMERICAN\")][\"cdi_dx_include\"].mean())\n",
    "\n",
    "print(\"Unknown and Others: \")\n",
    "print(icu_admits_train[(icu_admits_train[\"first_ethnicity\"] != \"WHITE\")&\n",
    "                       (icu_admits_train[\"first_ethnicity\"] != \"BLACK/AFRICAN AMERICAN\")&\n",
    "                       (icu_admits_train[\"first_ethnicity\"] != \"BLACK/CAPE VERDEAN\")&\n",
    "                       (icu_admits_train[\"first_ethnicity\"] != \"BLACK/HAITIAN\")&\n",
    "                       (icu_admits_train[\"first_ethnicity\"] != \"BLACK/AFRICAN\")&\n",
    "                       (icu_admits_train[\"first_ethnicity\"] != \"HISPANIC OR LATNO\")&\n",
    "                       (icu_admits_train[\"first_ethnicity\"] != \"HISPANIC/LATINO\") &\n",
    "                       (icu_admits_train[\"first_ethnicity\"] != \"SOUTH AMERICAN\")][\"cdi_dx_include\"].mean())"
   ]
  },
  {
   "cell_type": "markdown",
   "metadata": {},
   "source": [
    "The two most common ethnicities presenting to the ICU, white and african americans, don't show a major difference in CDI rates. While others show slight deviations, the sample of patients in these categories is much smaller and less likely to be meaningful."
   ]
  },
  {
   "cell_type": "code",
   "execution_count": 138,
   "metadata": {},
   "outputs": [],
   "source": [
    "demographics_train[\"first_ethnicity_white\"] = (icu_admits_train[\"first_ethnicity\"] == \"WHITE\").map(lambda x: 1 if x == True else 0)\n",
    "demographics_train[\"first_ethnicity_black\"] = ((icu_admits_train[\"first_ethnicity\"] == \"BLACK/AFRICAN AMERICAN\") |\n",
    "                                             (icu_admits_train[\"first_ethnicity\"] == \"BLACK/CAPE VERDEAN\")|\n",
    "                                             (icu_admits_train[\"first_ethnicity\"] == \"BLACK/HAITIAN\")|\n",
    "                                             (icu_admits_train[\"first_ethnicity\"] == \"BLACK/AFRICAN\")).map(lambda x: 1 if x == True else 0)\n",
    "demographics_train[\"first_ethnicity_hisp_latino\"] = ((icu_admits_train[\"first_ethnicity\"] == \"HISPANIC OR LATNO\")|\n",
    "                                                   (icu_admits_train[\"first_ethnicity\"] == \"HISPANIC/LATINO\")|\n",
    "                                                   (icu_admits_train[\"first_ethnicity\"] == \"SOUTH AMERICAN\")).map(lambda x: 1 if x == True else 0)\n",
    "\n",
    "demographics_test[\"first_ethnicity_white\"] = (icu_admits_test[\"first_ethnicity\"] == \"WHITE\").map(lambda x: 1 if x == True else 0)\n",
    "demographics_test[\"first_ethnicity_black\"] = ((icu_admits_test[\"first_ethnicity\"] == \"BLACK/AFRICAN AMERICAN\") |\n",
    "                                             (icu_admits_test[\"first_ethnicity\"] == \"BLACK/CAPE VERDEAN\")|\n",
    "                                             (icu_admits_test[\"first_ethnicity\"] == \"BLACK/HAITIAN\")|\n",
    "                                             (icu_admits_test[\"first_ethnicity\"] == \"BLACK/AFRICAN\")).map(lambda x: 1 if x == True else 0)\n",
    "demographics_test[\"first_ethnicity_hisp_latino\"] = ((icu_admits_test[\"first_ethnicity\"] == \"HISPANIC OR LATNO\")|\n",
    "                                                   (icu_admits_test[\"first_ethnicity\"] == \"HISPANIC/LATINO\")|\n",
    "                                                   (icu_admits_test[\"first_ethnicity\"] == \"SOUTH AMERICAN\")).map(lambda x: 1 if x == True else 0)"
   ]
  },
  {
   "cell_type": "code",
   "execution_count": 140,
   "metadata": {},
   "outputs": [
    {
     "data": {
      "text/plain": [
       "Index(['subject_id', 'hadm_id', 'icustay_id', 'overall_exclude',\n",
       "       'cdi_dx_include', 'admit age', 'admit age_knot 0', 'admit age_knot 1',\n",
       "       'admit age_knot 2', 'admit age_knot 3', 'admit age_knot 4',\n",
       "       'admit age_knot 5', 'insurance_govt_self_private', 'lang_english',\n",
       "       'first_ethnicity_white', 'first_ethnicity_black',\n",
       "       'first_ethnicity_hisp_latino'],\n",
       "      dtype='object')"
      ]
     },
     "execution_count": 140,
     "metadata": {},
     "output_type": "execute_result"
    }
   ],
   "source": [
    "demographics_train.columns"
   ]
  },
  {
   "cell_type": "code",
   "execution_count": 141,
   "metadata": {},
   "outputs": [
    {
     "name": "stdout",
     "output_type": "stream",
     "text": [
      "Optimization terminated successfully.\n",
      "         Current function value: 0.074214\n",
      "         Iterations 9\n",
      "Summary Stats:\n",
      "                           Logit Regression Results                           \n",
      "==============================================================================\n",
      "Dep. Variable:         cdi_dx_include   No. Observations:                35126\n",
      "Model:                          Logit   Df Residuals:                    35115\n",
      "Method:                           MLE   Df Model:                           10\n",
      "Date:                Fri, 06 Sep 2019   Pseudo R-squ.:                0.005963\n",
      "Time:                        13:52:56   Log-Likelihood:                -2606.8\n",
      "converged:                       True   LL-Null:                       -2622.5\n",
      "Covariance Type:            nonrobust   LLR p-value:                 0.0005286\n",
      "===============================================================================================\n",
      "                                  coef    std err          z      P>|z|      [0.025      0.975]\n",
      "-----------------------------------------------------------------------------------------------\n",
      "admit age_knot 0               -8.1414      0.539    -15.098      0.000      -9.198      -7.084\n",
      "admit age_knot 1               -2.7165      0.357     -7.617      0.000      -3.416      -2.017\n",
      "admit age_knot 2               -4.6370      0.235    -19.725      0.000      -5.098      -4.176\n",
      "admit age_knot 3               -3.3609      0.260    -12.908      0.000      -3.871      -2.851\n",
      "admit age_knot 4               -4.3394      0.292    -14.857      0.000      -4.912      -3.767\n",
      "admit age_knot 5               -3.9653      0.202    -19.630      0.000      -4.361      -3.569\n",
      "insurance_govt_self_private    -0.4399      0.124     -3.559      0.000      -0.682      -0.198\n",
      "lang_english                   -0.2601      0.093     -2.805      0.005      -0.442      -0.078\n",
      "first_ethnicity_white           0.1190      0.124      0.963      0.335      -0.123       0.361\n",
      "first_ethnicity_black           0.1857      0.183      1.016      0.309      -0.172       0.544\n",
      "first_ethnicity_hisp_latino     0.2237      0.465      0.481      0.630      -0.687       1.135\n",
      "===============================================================================================\n",
      "Odds Ratio\n",
      "admit age_knot 0               0.000291\n",
      "admit age_knot 1               0.066107\n",
      "admit age_knot 2               0.009687\n",
      "admit age_knot 3               0.034705\n",
      "admit age_knot 4               0.013045\n",
      "admit age_knot 5               0.018962\n",
      "insurance_govt_self_private    0.644110\n",
      "lang_english                   0.770938\n",
      "first_ethnicity_white          1.126426\n",
      "first_ethnicity_black          1.204029\n",
      "first_ethnicity_hisp_latino    1.250664\n",
      "dtype: float64\n"
     ]
    }
   ],
   "source": [
    "uni_log(['admit age_knot 0', 'admit age_knot 1',\n",
    "       'admit age_knot 2', 'admit age_knot 3', 'admit age_knot 4',\n",
    "       'admit age_knot 5', 'insurance_govt_self_private', 'lang_english',\n",
    "       'first_ethnicity_white', 'first_ethnicity_black',\n",
    "       'first_ethnicity_hisp_latino'],\n",
    "        demographics_train,\n",
    "        categorical=False)"
   ]
  },
  {
   "cell_type": "markdown",
   "metadata": {},
   "source": [
    "##### Comments:\n",
    "\n",
    "None of the 3 ethnicity groups are significant predictors once accounting for age, insurance and english language"
   ]
  },
  {
   "cell_type": "code",
   "execution_count": 142,
   "metadata": {},
   "outputs": [],
   "source": [
    "demographics_train.drop(columns = ['first_ethnicity_white', 'first_ethnicity_black',\n",
    "       'first_ethnicity_hisp_latino'],inplace=True)\n",
    "demographics_test.drop(columns = ['first_ethnicity_white', 'first_ethnicity_black',\n",
    "       'first_ethnicity_hisp_latino'],inplace=True)"
   ]
  },
  {
   "cell_type": "markdown",
   "metadata": {},
   "source": [
    "### Marital Status"
   ]
  },
  {
   "cell_type": "code",
   "execution_count": 143,
   "metadata": {},
   "outputs": [
    {
     "name": "stdout",
     "output_type": "stream",
     "text": [
      "Counts:\n",
      "MARRIED              17067\n",
      "SINGLE                8639\n",
      "WIDOWED               5009\n",
      "DIVORCED              2303\n",
      "None                  1445\n",
      "SEPARATED              412\n",
      "UNKNOWN (DEFAULT)      239\n",
      "LIFE PARTNER            12\n",
      "Name: marital_status, dtype: int64\n",
      "\n",
      "Mean CDI Rate:\n",
      "marital_status\n",
      "DIVORCED             0.007816\n",
      "LIFE PARTNER         0.000000\n",
      "MARRIED              0.013769\n",
      "None                 0.016609\n",
      "SEPARATED            0.012136\n",
      "SINGLE               0.014238\n",
      "UNKNOWN (DEFAULT)    0.029289\n",
      "WIDOWED              0.017568\n",
      "Name: cdi_dx_include, dtype: float64\n",
      "\n"
     ]
    }
   ],
   "source": [
    "categorical_stats(\"marital_status\", icu_admits_train, binary=False, skip_model=True)"
   ]
  },
  {
   "cell_type": "markdown",
   "metadata": {},
   "source": [
    "Separated, unknown and life partner marital status all have < 500 observations and none have over 10 CDI cases. Recoding done below before further analysis. Recoding based on marital statuses that are most similar:\n",
    "\n",
    "Life partner recoded as \"married\"\n",
    "\"separated\" recoded to \"married\" instead of \"divorced\" based on closer average CDI rates,\n",
    "\"Unknown\" recoded to none based on similarity of description "
   ]
  },
  {
   "cell_type": "code",
   "execution_count": 164,
   "metadata": {},
   "outputs": [],
   "source": [
    "# demographics_train['marital_status'] = \n",
    "demographics_train.loc[:,\"marital_status_recode\"] = icu_admits_train.loc[:,\"marital_status\"].map({\"UNKNOWN (DEFAULT)\" : \"None\",\n",
    "                                                                                      \"None\" : \"None\",\n",
    "                                                                                      \"LIFE PARTNER\" : \"MARRIED\",\n",
    "                                                                                     \"MARRIED\" : \"MARRIED\",\n",
    "                                                                                     \"SINGLE\" : \"SINGLE\",\n",
    "                                                                                     \"WIDOWED\" : \"WIDOWED\",\n",
    "                                                                                     \"DIVORCED\" : \"DIVORCED\",\n",
    "                                                                                     \"SEPARATED\" : \"SEPARATED\"})\n",
    "demographics_test.loc[:,\"marital_status_recode\"] = icu_admits_test.loc[:,\"marital_status\"].map({\"UNKNOWN (DEFAULT)\" : \"None\",\n",
    "                                                                                      \"None\" : \"None\",\n",
    "                                                                                      \"LIFE PARTNER\" : \"MARRIED\",\n",
    "                                                                                     \"MARRIED\" : \"MARRIED\",\n",
    "                                                                                     \"SINGLE\" : \"SINGLE\",\n",
    "                                                                                     \"WIDOWED\" : \"WIDOWED\",\n",
    "                                                                                     \"DIVORCED\" : \"DIVORCED\",\n",
    "                                                                                     \"SEPARATED\" : \"SEPARATED\"})"
   ]
  },
  {
   "cell_type": "code",
   "execution_count": 165,
   "metadata": {},
   "outputs": [],
   "source": [
    "demographics_train = pd.concat([demographics_train,\n",
    "                                pd.get_dummies(demographics_train[\"marital_status_recode\"], \n",
    "                                               prefix = \"marital_status\").drop(columns = \"marital_status_MARRIED\")],\n",
    "                               axis=1)\n",
    "\n",
    "demographics_test = pd.concat([demographics_test,\n",
    "                                pd.get_dummies(demographics_test[\"marital_status_recode\"], \n",
    "                                               prefix = \"marital_status\").drop(columns = \"marital_status_MARRIED\")],\n",
    "                               axis=1)"
   ]
  },
  {
   "cell_type": "code",
   "execution_count": 166,
   "metadata": {},
   "outputs": [],
   "source": [
    "demographics_train.drop(columns = \"marital_status_recode\", inplace=True)\n",
    "demographics_test.drop(columns = \"marital_status_recode\", inplace=True)"
   ]
  },
  {
   "cell_type": "code",
   "execution_count": 167,
   "metadata": {},
   "outputs": [
    {
     "data": {
      "text/plain": [
       "Index(['Unnamed: 0', 'subject_id', 'hadm_id', 'icustay_id', 'overall_exclude',\n",
       "       'cdi_dx_include', 'admit age', 'admit age_knot 0', 'admit age_knot 1',\n",
       "       'admit age_knot 2', 'admit age_knot 3', 'admit age_knot 4',\n",
       "       'admit age_knot 5', 'insurance_govt_self_private', 'lang_english',\n",
       "       'marital_status_DIVORCED', 'marital_status_None',\n",
       "       'marital_status_SEPARATED', 'marital_status_SINGLE',\n",
       "       'marital_status_WIDOWED'],\n",
       "      dtype='object')"
      ]
     },
     "execution_count": 167,
     "metadata": {},
     "output_type": "execute_result"
    }
   ],
   "source": [
    "demographics_train.columns"
   ]
  },
  {
   "cell_type": "code",
   "execution_count": 168,
   "metadata": {
    "scrolled": false
   },
   "outputs": [
    {
     "name": "stdout",
     "output_type": "stream",
     "text": [
      "Optimization terminated successfully.\n",
      "         Current function value: 0.074100\n",
      "         Iterations 9\n",
      "Summary Stats:\n",
      "                           Logit Regression Results                           \n",
      "==============================================================================\n",
      "Dep. Variable:         cdi_dx_include   No. Observations:                35126\n",
      "Model:                          Logit   Df Residuals:                    35113\n",
      "Method:                           MLE   Df Model:                           12\n",
      "Date:                Fri, 06 Sep 2019   Pseudo R-squ.:                0.007487\n",
      "Time:                        14:10:32   Log-Likelihood:                -2602.8\n",
      "converged:                       True   LL-Null:                       -2622.5\n",
      "Covariance Type:            nonrobust   LLR p-value:                 9.493e-05\n",
      "===============================================================================================\n",
      "                                  coef    std err          z      P>|z|      [0.025      0.975]\n",
      "-----------------------------------------------------------------------------------------------\n",
      "admit age_knot 0               -8.1119      0.560    -14.498      0.000      -9.209      -7.015\n",
      "admit age_knot 1               -2.6156      0.353     -7.416      0.000      -3.307      -1.924\n",
      "admit age_knot 2               -4.5059      0.222    -20.272      0.000      -4.941      -4.070\n",
      "admit age_knot 3               -3.2940      0.248    -13.260      0.000      -3.781      -2.807\n",
      "admit age_knot 4               -4.2663      0.285    -14.995      0.000      -4.824      -3.709\n",
      "admit age_knot 5               -3.9014      0.194    -20.146      0.000      -4.281      -3.522\n",
      "insurance_govt_self_private    -0.4590      0.125     -3.674      0.000      -0.704      -0.214\n",
      "lang_english                   -0.2256      0.091     -2.489      0.013      -0.403      -0.048\n",
      "marital_status_DIVORCED        -0.5959      0.247     -2.409      0.016      -1.081      -0.111\n",
      "marital_status_None             0.1961      0.194      1.009      0.313      -0.185       0.577\n",
      "marital_status_SEPARATED       -0.1255      0.457     -0.275      0.783      -1.021       0.770\n",
      "marital_status_SINGLE           0.0724      0.120      0.601      0.548      -0.164       0.308\n",
      "marital_status_WIDOWED          0.0246      0.134      0.183      0.855      -0.239       0.288\n",
      "===============================================================================================\n",
      "Odds Ratio\n",
      "admit age_knot 0               0.000300\n",
      "admit age_knot 1               0.073126\n",
      "admit age_knot 2               0.011044\n",
      "admit age_knot 3               0.037105\n",
      "admit age_knot 4               0.014034\n",
      "admit age_knot 5               0.020213\n",
      "insurance_govt_self_private    0.631895\n",
      "lang_english                   0.798018\n",
      "marital_status_DIVORCED        0.551081\n",
      "marital_status_None            1.216702\n",
      "marital_status_SEPARATED       0.882062\n",
      "marital_status_SINGLE          1.075056\n",
      "marital_status_WIDOWED         1.024894\n",
      "dtype: float64\n"
     ]
    }
   ],
   "source": [
    "uni_log(['admit age_knot 0', 'admit age_knot 1',\n",
    "       'admit age_knot 2', 'admit age_knot 3', 'admit age_knot 4',\n",
    "       'admit age_knot 5', 'insurance_govt_self_private', 'lang_english',\n",
    "       'marital_status_DIVORCED', 'marital_status_None',\n",
    "       'marital_status_SEPARATED', 'marital_status_SINGLE',\n",
    "       'marital_status_WIDOWED'], demographics_train, categorical=False)"
   ]
  },
  {
   "cell_type": "markdown",
   "metadata": {},
   "source": [
    "#### Comments:\n",
    "\n",
    "Divorced is the only significant marital status predictor after age, insurance and language has been taken into account"
   ]
  },
  {
   "cell_type": "code",
   "execution_count": 169,
   "metadata": {},
   "outputs": [],
   "source": [
    "demographics_train.drop(columns = ['marital_status_None',\n",
    "       'marital_status_SEPARATED', 'marital_status_SINGLE',\n",
    "       'marital_status_WIDOWED'], inplace=True)\n",
    "demographics_test.drop(columns = ['marital_status_None',\n",
    "       'marital_status_SEPARATED', 'marital_status_SINGLE',\n",
    "       'marital_status_WIDOWED'], inplace=True)"
   ]
  },
  {
   "cell_type": "markdown",
   "metadata": {},
   "source": [
    "## Export adjusted icu admits and demographic features dfs"
   ]
  },
  {
   "cell_type": "code",
   "execution_count": 6,
   "metadata": {},
   "outputs": [],
   "source": [
    "# Drop age column from features (only sublic spline transformed features remain)\n",
    "demographics_train.drop(columns = [\"admit age\"],inplace=True)\n",
    "demographics_test.drop(columns = [\"admit age\"],inplace=True)"
   ]
  },
  {
   "cell_type": "code",
   "execution_count": 7,
   "metadata": {},
   "outputs": [],
   "source": [
    "icu_admits_train.to_csv(\"../Data/3 - ICU Admits Train.csv\")\n",
    "icu_admits_test.to_csv(\"../Data/3 - ICU Admits Test.csv\")\n",
    "demographics_train.to_csv(\"../Data/3 - Demographics Train.csv\", index=False)\n",
    "demographics_test.to_csv(\"../Data/3 - Demographics Test.csv\", index=False)"
   ]
  },
  {
   "cell_type": "code",
   "execution_count": 4,
   "metadata": {},
   "outputs": [],
   "source": [
    "# Code to read in exported dataframes above to make modifications without re-running all code above\n",
    "demographics_train = pd.read_csv(\"../Data/3 - Demographics Train.csv\")\n",
    "demographics_test = pd.read_csv(\"../Data/3 - Demographics Test.csv\")"
   ]
  }
 ],
 "metadata": {
  "kernelspec": {
   "display_name": "Python 3",
   "language": "python",
   "name": "python3"
  },
  "language_info": {
   "codemirror_mode": {
    "name": "ipython",
    "version": 3
   },
   "file_extension": ".py",
   "mimetype": "text/x-python",
   "name": "python",
   "nbconvert_exporter": "python",
   "pygments_lexer": "ipython3",
   "version": "3.7.4"
  }
 },
 "nbformat": 4,
 "nbformat_minor": 2
}
